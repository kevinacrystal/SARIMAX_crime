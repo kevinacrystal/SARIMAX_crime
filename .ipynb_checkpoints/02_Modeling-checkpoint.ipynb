{
 "cells": [
  {
   "cell_type": "code",
   "execution_count": 1,
   "metadata": {},
   "outputs": [],
   "source": [
    "import pandas as pd\n",
    "import numpy as np\n",
    "import matplotlib.pyplot as plt\n",
    "import seaborn as sns\n",
    "%matplotlib inline"
   ]
  },
  {
   "cell_type": "code",
   "execution_count": 2,
   "metadata": {},
   "outputs": [
    {
     "name": "stdout",
     "output_type": "stream",
     "text": [
      "1716742.csv                        fouryear.csv\r\n",
      "NYPD_Complaint_Data_2014.csv       \u001b[34mhistorical-hourly-weather-data\u001b[m\u001b[m\r\n",
      "NYPD_Complaint_Data_2015.csv       historical-hourly-weather-data.zip\r\n",
      "NYPD_Complaint_Data_2016.csv       \u001b[34mmaps\u001b[m\u001b[m\r\n",
      "NYPD_Complaint_Data_2017.csv       monthly_total_by_precinct.csv\r\n",
      "\u001b[34mPolice Precincts\u001b[m\u001b[m                   ny_weather.csv\r\n",
      "Police Precincts.geojson           precinct_agg_season.csv\r\n",
      "central_park_temp_precip.csv       precincts.json\r\n",
      "crime_2014_2017.csv\r\n"
     ]
    }
   ],
   "source": [
    "!ls data"
   ]
  },
  {
   "cell_type": "code",
   "execution_count": 3,
   "metadata": {},
   "outputs": [],
   "source": [
    "weather = pd.read_csv('data/central_park_temp_precip.csv')\n",
    "crime = pd.read_csv('data/crime_2014_2017.csv')"
   ]
  },
  {
   "cell_type": "code",
   "execution_count": 4,
   "metadata": {},
   "outputs": [
    {
     "data": {
      "text/html": [
       "<div>\n",
       "<style scoped>\n",
       "    .dataframe tbody tr th:only-of-type {\n",
       "        vertical-align: middle;\n",
       "    }\n",
       "\n",
       "    .dataframe tbody tr th {\n",
       "        vertical-align: top;\n",
       "    }\n",
       "\n",
       "    .dataframe thead th {\n",
       "        text-align: right;\n",
       "    }\n",
       "</style>\n",
       "<table border=\"1\" class=\"dataframe\">\n",
       "  <thead>\n",
       "    <tr style=\"text-align: right;\">\n",
       "      <th></th>\n",
       "      <th>index</th>\n",
       "      <th>date</th>\n",
       "      <th>precipitation</th>\n",
       "      <th>snow_fall</th>\n",
       "      <th>snow_accum</th>\n",
       "      <th>max_temp</th>\n",
       "      <th>min_temp</th>\n",
       "    </tr>\n",
       "  </thead>\n",
       "  <tbody>\n",
       "    <tr>\n",
       "      <th>0</th>\n",
       "      <td>0</td>\n",
       "      <td>2012-01-01</td>\n",
       "      <td>0.05</td>\n",
       "      <td>0.0</td>\n",
       "      <td>0.0</td>\n",
       "      <td>52</td>\n",
       "      <td>41</td>\n",
       "    </tr>\n",
       "  </tbody>\n",
       "</table>\n",
       "</div>"
      ],
      "text/plain": [
       "   index       date  precipitation  snow_fall  snow_accum  max_temp  min_temp\n",
       "0      0 2012-01-01           0.05        0.0         0.0        52        41"
      ]
     },
     "execution_count": 4,
     "metadata": {},
     "output_type": "execute_result"
    }
   ],
   "source": [
    "weather['date'] = pd.to_datetime(weather.date)\n",
    "weather.head(1)"
   ]
  },
  {
   "cell_type": "code",
   "execution_count": 5,
   "metadata": {},
   "outputs": [
    {
     "data": {
      "text/html": [
       "<div>\n",
       "<style scoped>\n",
       "    .dataframe tbody tr th:only-of-type {\n",
       "        vertical-align: middle;\n",
       "    }\n",
       "\n",
       "    .dataframe tbody tr th {\n",
       "        vertical-align: top;\n",
       "    }\n",
       "\n",
       "    .dataframe thead th {\n",
       "        text-align: right;\n",
       "    }\n",
       "</style>\n",
       "<table border=\"1\" class=\"dataframe\">\n",
       "  <thead>\n",
       "    <tr style=\"text-align: right;\">\n",
       "      <th></th>\n",
       "      <th>complaint_date</th>\n",
       "      <th>precinct</th>\n",
       "      <th>crime</th>\n",
       "      <th>latitude</th>\n",
       "      <th>longitude</th>\n",
       "      <th>date</th>\n",
       "      <th>day_of_month</th>\n",
       "      <th>month</th>\n",
       "      <th>year</th>\n",
       "      <th>day_of_week</th>\n",
       "      <th>season</th>\n",
       "    </tr>\n",
       "  </thead>\n",
       "  <tbody>\n",
       "    <tr>\n",
       "      <th>0</th>\n",
       "      <td>2014-01-01</td>\n",
       "      <td>121.0</td>\n",
       "      <td>CRIMINAL MISCHIEF &amp; RELATED OF</td>\n",
       "      <td>40.624655</td>\n",
       "      <td>-74.148881</td>\n",
       "      <td>2014-01-01</td>\n",
       "      <td>1</td>\n",
       "      <td>1</td>\n",
       "      <td>2014</td>\n",
       "      <td>2</td>\n",
       "      <td>1</td>\n",
       "    </tr>\n",
       "    <tr>\n",
       "      <th>1</th>\n",
       "      <td>2014-01-01</td>\n",
       "      <td>46.0</td>\n",
       "      <td>CRIMINAL MISCHIEF &amp; RELATED OF</td>\n",
       "      <td>40.849963</td>\n",
       "      <td>-73.902241</td>\n",
       "      <td>2014-01-01</td>\n",
       "      <td>1</td>\n",
       "      <td>1</td>\n",
       "      <td>2014</td>\n",
       "      <td>2</td>\n",
       "      <td>1</td>\n",
       "    </tr>\n",
       "    <tr>\n",
       "      <th>2</th>\n",
       "      <td>2014-01-01</td>\n",
       "      <td>34.0</td>\n",
       "      <td>OFFENSES AGAINST PUBLIC ADMINI</td>\n",
       "      <td>40.858133</td>\n",
       "      <td>-73.931363</td>\n",
       "      <td>2014-01-01</td>\n",
       "      <td>1</td>\n",
       "      <td>1</td>\n",
       "      <td>2014</td>\n",
       "      <td>2</td>\n",
       "      <td>1</td>\n",
       "    </tr>\n",
       "    <tr>\n",
       "      <th>3</th>\n",
       "      <td>2014-01-01</td>\n",
       "      <td>10.0</td>\n",
       "      <td>CRIMINAL TRESPASS</td>\n",
       "      <td>40.749855</td>\n",
       "      <td>-74.001416</td>\n",
       "      <td>2014-01-01</td>\n",
       "      <td>1</td>\n",
       "      <td>1</td>\n",
       "      <td>2014</td>\n",
       "      <td>2</td>\n",
       "      <td>1</td>\n",
       "    </tr>\n",
       "    <tr>\n",
       "      <th>4</th>\n",
       "      <td>2014-01-01</td>\n",
       "      <td>114.0</td>\n",
       "      <td>ASSAULT 3 &amp; RELATED OFFENSES</td>\n",
       "      <td>40.773916</td>\n",
       "      <td>-73.913423</td>\n",
       "      <td>2014-01-01</td>\n",
       "      <td>1</td>\n",
       "      <td>1</td>\n",
       "      <td>2014</td>\n",
       "      <td>2</td>\n",
       "      <td>1</td>\n",
       "    </tr>\n",
       "  </tbody>\n",
       "</table>\n",
       "</div>"
      ],
      "text/plain": [
       "  complaint_date  precinct                           crime   latitude  \\\n",
       "0     2014-01-01     121.0  CRIMINAL MISCHIEF & RELATED OF  40.624655   \n",
       "1     2014-01-01      46.0  CRIMINAL MISCHIEF & RELATED OF  40.849963   \n",
       "2     2014-01-01      34.0  OFFENSES AGAINST PUBLIC ADMINI  40.858133   \n",
       "3     2014-01-01      10.0               CRIMINAL TRESPASS  40.749855   \n",
       "4     2014-01-01     114.0    ASSAULT 3 & RELATED OFFENSES  40.773916   \n",
       "\n",
       "   longitude       date  day_of_month  month  year  day_of_week  season  \n",
       "0 -74.148881 2014-01-01             1      1  2014            2       1  \n",
       "1 -73.902241 2014-01-01             1      1  2014            2       1  \n",
       "2 -73.931363 2014-01-01             1      1  2014            2       1  \n",
       "3 -74.001416 2014-01-01             1      1  2014            2       1  \n",
       "4 -73.913423 2014-01-01             1      1  2014            2       1  "
      ]
     },
     "execution_count": 5,
     "metadata": {},
     "output_type": "execute_result"
    }
   ],
   "source": [
    "crime['date'] = pd.to_datetime(crime.complaint_date)\n",
    "crime.head()"
   ]
  },
  {
   "cell_type": "code",
   "execution_count": 6,
   "metadata": {},
   "outputs": [],
   "source": [
    "crime_date = crime.groupby('date').count()"
   ]
  },
  {
   "cell_type": "code",
   "execution_count": 7,
   "metadata": {},
   "outputs": [],
   "source": [
    "date_crime_temp = pd.merge(left=crime_date, right=weather, how='left', on='date')"
   ]
  },
  {
   "cell_type": "code",
   "execution_count": 8,
   "metadata": {},
   "outputs": [
    {
     "data": {
      "text/plain": [
       "(1461, 17)"
      ]
     },
     "execution_count": 8,
     "metadata": {},
     "output_type": "execute_result"
    }
   ],
   "source": [
    "date_crime_temp.shape"
   ]
  },
  {
   "cell_type": "code",
   "execution_count": 9,
   "metadata": {
    "scrolled": true
   },
   "outputs": [
    {
     "data": {
      "text/html": [
       "<div>\n",
       "<style scoped>\n",
       "    .dataframe tbody tr th:only-of-type {\n",
       "        vertical-align: middle;\n",
       "    }\n",
       "\n",
       "    .dataframe tbody tr th {\n",
       "        vertical-align: top;\n",
       "    }\n",
       "\n",
       "    .dataframe thead th {\n",
       "        text-align: right;\n",
       "    }\n",
       "</style>\n",
       "<table border=\"1\" class=\"dataframe\">\n",
       "  <thead>\n",
       "    <tr style=\"text-align: right;\">\n",
       "      <th></th>\n",
       "      <th>count</th>\n",
       "      <th>mean</th>\n",
       "      <th>std</th>\n",
       "      <th>min</th>\n",
       "      <th>25%</th>\n",
       "      <th>50%</th>\n",
       "      <th>75%</th>\n",
       "      <th>max</th>\n",
       "    </tr>\n",
       "  </thead>\n",
       "  <tbody>\n",
       "    <tr>\n",
       "      <th>complaint_date</th>\n",
       "      <td>1461.0</td>\n",
       "      <td>1301.601643</td>\n",
       "      <td>156.640248</td>\n",
       "      <td>609.0</td>\n",
       "      <td>1212.0</td>\n",
       "      <td>1309.0</td>\n",
       "      <td>1395.00</td>\n",
       "      <td>2281.00</td>\n",
       "    </tr>\n",
       "    <tr>\n",
       "      <th>precinct</th>\n",
       "      <td>1461.0</td>\n",
       "      <td>1301.601643</td>\n",
       "      <td>156.640248</td>\n",
       "      <td>609.0</td>\n",
       "      <td>1212.0</td>\n",
       "      <td>1309.0</td>\n",
       "      <td>1395.00</td>\n",
       "      <td>2281.00</td>\n",
       "    </tr>\n",
       "    <tr>\n",
       "      <th>crime</th>\n",
       "      <td>1461.0</td>\n",
       "      <td>1301.601643</td>\n",
       "      <td>156.640248</td>\n",
       "      <td>609.0</td>\n",
       "      <td>1212.0</td>\n",
       "      <td>1309.0</td>\n",
       "      <td>1395.00</td>\n",
       "      <td>2281.00</td>\n",
       "    </tr>\n",
       "    <tr>\n",
       "      <th>latitude</th>\n",
       "      <td>1461.0</td>\n",
       "      <td>1301.601643</td>\n",
       "      <td>156.640248</td>\n",
       "      <td>609.0</td>\n",
       "      <td>1212.0</td>\n",
       "      <td>1309.0</td>\n",
       "      <td>1395.00</td>\n",
       "      <td>2281.00</td>\n",
       "    </tr>\n",
       "    <tr>\n",
       "      <th>longitude</th>\n",
       "      <td>1461.0</td>\n",
       "      <td>1301.601643</td>\n",
       "      <td>156.640248</td>\n",
       "      <td>609.0</td>\n",
       "      <td>1212.0</td>\n",
       "      <td>1309.0</td>\n",
       "      <td>1395.00</td>\n",
       "      <td>2281.00</td>\n",
       "    </tr>\n",
       "    <tr>\n",
       "      <th>day_of_month</th>\n",
       "      <td>1461.0</td>\n",
       "      <td>1301.601643</td>\n",
       "      <td>156.640248</td>\n",
       "      <td>609.0</td>\n",
       "      <td>1212.0</td>\n",
       "      <td>1309.0</td>\n",
       "      <td>1395.00</td>\n",
       "      <td>2281.00</td>\n",
       "    </tr>\n",
       "    <tr>\n",
       "      <th>month</th>\n",
       "      <td>1461.0</td>\n",
       "      <td>1301.601643</td>\n",
       "      <td>156.640248</td>\n",
       "      <td>609.0</td>\n",
       "      <td>1212.0</td>\n",
       "      <td>1309.0</td>\n",
       "      <td>1395.00</td>\n",
       "      <td>2281.00</td>\n",
       "    </tr>\n",
       "    <tr>\n",
       "      <th>year</th>\n",
       "      <td>1461.0</td>\n",
       "      <td>1301.601643</td>\n",
       "      <td>156.640248</td>\n",
       "      <td>609.0</td>\n",
       "      <td>1212.0</td>\n",
       "      <td>1309.0</td>\n",
       "      <td>1395.00</td>\n",
       "      <td>2281.00</td>\n",
       "    </tr>\n",
       "    <tr>\n",
       "      <th>day_of_week</th>\n",
       "      <td>1461.0</td>\n",
       "      <td>1301.601643</td>\n",
       "      <td>156.640248</td>\n",
       "      <td>609.0</td>\n",
       "      <td>1212.0</td>\n",
       "      <td>1309.0</td>\n",
       "      <td>1395.00</td>\n",
       "      <td>2281.00</td>\n",
       "    </tr>\n",
       "    <tr>\n",
       "      <th>season</th>\n",
       "      <td>1461.0</td>\n",
       "      <td>1301.601643</td>\n",
       "      <td>156.640248</td>\n",
       "      <td>609.0</td>\n",
       "      <td>1212.0</td>\n",
       "      <td>1309.0</td>\n",
       "      <td>1395.00</td>\n",
       "      <td>2281.00</td>\n",
       "    </tr>\n",
       "    <tr>\n",
       "      <th>index</th>\n",
       "      <td>1461.0</td>\n",
       "      <td>1461.000000</td>\n",
       "      <td>421.898685</td>\n",
       "      <td>731.0</td>\n",
       "      <td>1096.0</td>\n",
       "      <td>1461.0</td>\n",
       "      <td>1826.00</td>\n",
       "      <td>2191.00</td>\n",
       "    </tr>\n",
       "    <tr>\n",
       "      <th>precipitation</th>\n",
       "      <td>1461.0</td>\n",
       "      <td>0.124552</td>\n",
       "      <td>0.352779</td>\n",
       "      <td>0.0</td>\n",
       "      <td>0.0</td>\n",
       "      <td>0.0</td>\n",
       "      <td>0.04</td>\n",
       "      <td>4.97</td>\n",
       "    </tr>\n",
       "    <tr>\n",
       "      <th>snow_fall</th>\n",
       "      <td>1461.0</td>\n",
       "      <td>0.116222</td>\n",
       "      <td>1.010820</td>\n",
       "      <td>0.0</td>\n",
       "      <td>0.0</td>\n",
       "      <td>0.0</td>\n",
       "      <td>0.00</td>\n",
       "      <td>27.30</td>\n",
       "    </tr>\n",
       "    <tr>\n",
       "      <th>snow_accum</th>\n",
       "      <td>1461.0</td>\n",
       "      <td>0.692402</td>\n",
       "      <td>2.599508</td>\n",
       "      <td>0.0</td>\n",
       "      <td>0.0</td>\n",
       "      <td>0.0</td>\n",
       "      <td>0.00</td>\n",
       "      <td>22.00</td>\n",
       "    </tr>\n",
       "    <tr>\n",
       "      <th>max_temp</th>\n",
       "      <td>1461.0</td>\n",
       "      <td>63.464750</td>\n",
       "      <td>18.614316</td>\n",
       "      <td>15.0</td>\n",
       "      <td>48.0</td>\n",
       "      <td>65.0</td>\n",
       "      <td>80.00</td>\n",
       "      <td>97.00</td>\n",
       "    </tr>\n",
       "    <tr>\n",
       "      <th>min_temp</th>\n",
       "      <td>1461.0</td>\n",
       "      <td>49.017796</td>\n",
       "      <td>17.315357</td>\n",
       "      <td>-1.0</td>\n",
       "      <td>36.0</td>\n",
       "      <td>50.0</td>\n",
       "      <td>65.00</td>\n",
       "      <td>82.00</td>\n",
       "    </tr>\n",
       "  </tbody>\n",
       "</table>\n",
       "</div>"
      ],
      "text/plain": [
       "                 count         mean         std    min     25%     50%  \\\n",
       "complaint_date  1461.0  1301.601643  156.640248  609.0  1212.0  1309.0   \n",
       "precinct        1461.0  1301.601643  156.640248  609.0  1212.0  1309.0   \n",
       "crime           1461.0  1301.601643  156.640248  609.0  1212.0  1309.0   \n",
       "latitude        1461.0  1301.601643  156.640248  609.0  1212.0  1309.0   \n",
       "longitude       1461.0  1301.601643  156.640248  609.0  1212.0  1309.0   \n",
       "day_of_month    1461.0  1301.601643  156.640248  609.0  1212.0  1309.0   \n",
       "month           1461.0  1301.601643  156.640248  609.0  1212.0  1309.0   \n",
       "year            1461.0  1301.601643  156.640248  609.0  1212.0  1309.0   \n",
       "day_of_week     1461.0  1301.601643  156.640248  609.0  1212.0  1309.0   \n",
       "season          1461.0  1301.601643  156.640248  609.0  1212.0  1309.0   \n",
       "index           1461.0  1461.000000  421.898685  731.0  1096.0  1461.0   \n",
       "precipitation   1461.0     0.124552    0.352779    0.0     0.0     0.0   \n",
       "snow_fall       1461.0     0.116222    1.010820    0.0     0.0     0.0   \n",
       "snow_accum      1461.0     0.692402    2.599508    0.0     0.0     0.0   \n",
       "max_temp        1461.0    63.464750   18.614316   15.0    48.0    65.0   \n",
       "min_temp        1461.0    49.017796   17.315357   -1.0    36.0    50.0   \n",
       "\n",
       "                    75%      max  \n",
       "complaint_date  1395.00  2281.00  \n",
       "precinct        1395.00  2281.00  \n",
       "crime           1395.00  2281.00  \n",
       "latitude        1395.00  2281.00  \n",
       "longitude       1395.00  2281.00  \n",
       "day_of_month    1395.00  2281.00  \n",
       "month           1395.00  2281.00  \n",
       "year            1395.00  2281.00  \n",
       "day_of_week     1395.00  2281.00  \n",
       "season          1395.00  2281.00  \n",
       "index           1826.00  2191.00  \n",
       "precipitation      0.04     4.97  \n",
       "snow_fall          0.00    27.30  \n",
       "snow_accum         0.00    22.00  \n",
       "max_temp          80.00    97.00  \n",
       "min_temp          65.00    82.00  "
      ]
     },
     "execution_count": 9,
     "metadata": {},
     "output_type": "execute_result"
    }
   ],
   "source": [
    "date_crime_temp.describe().T"
   ]
  },
  {
   "cell_type": "code",
   "execution_count": 10,
   "metadata": {},
   "outputs": [
    {
     "data": {
      "text/html": [
       "<div>\n",
       "<style scoped>\n",
       "    .dataframe tbody tr th:only-of-type {\n",
       "        vertical-align: middle;\n",
       "    }\n",
       "\n",
       "    .dataframe tbody tr th {\n",
       "        vertical-align: top;\n",
       "    }\n",
       "\n",
       "    .dataframe thead th {\n",
       "        text-align: right;\n",
       "    }\n",
       "</style>\n",
       "<table border=\"1\" class=\"dataframe\">\n",
       "  <thead>\n",
       "    <tr style=\"text-align: right;\">\n",
       "      <th></th>\n",
       "      <th>date</th>\n",
       "      <th>complaint_count</th>\n",
       "      <th>max_temp</th>\n",
       "    </tr>\n",
       "  </thead>\n",
       "  <tbody>\n",
       "    <tr>\n",
       "      <th>0</th>\n",
       "      <td>2014-01-01</td>\n",
       "      <td>2281</td>\n",
       "      <td>33</td>\n",
       "    </tr>\n",
       "    <tr>\n",
       "      <th>1</th>\n",
       "      <td>2014-01-02</td>\n",
       "      <td>1098</td>\n",
       "      <td>33</td>\n",
       "    </tr>\n",
       "    <tr>\n",
       "      <th>2</th>\n",
       "      <td>2014-01-03</td>\n",
       "      <td>974</td>\n",
       "      <td>18</td>\n",
       "    </tr>\n",
       "    <tr>\n",
       "      <th>3</th>\n",
       "      <td>2014-01-04</td>\n",
       "      <td>1049</td>\n",
       "      <td>29</td>\n",
       "    </tr>\n",
       "    <tr>\n",
       "      <th>4</th>\n",
       "      <td>2014-01-05</td>\n",
       "      <td>1017</td>\n",
       "      <td>40</td>\n",
       "    </tr>\n",
       "  </tbody>\n",
       "</table>\n",
       "</div>"
      ],
      "text/plain": [
       "        date  complaint_count  max_temp\n",
       "0 2014-01-01             2281        33\n",
       "1 2014-01-02             1098        33\n",
       "2 2014-01-03              974        18\n",
       "3 2014-01-04             1049        29\n",
       "4 2014-01-05             1017        40"
      ]
     },
     "execution_count": 10,
     "metadata": {},
     "output_type": "execute_result"
    }
   ],
   "source": [
    "date_crime_temp = date_crime_temp[['date', 'complaint_date', 'max_temp']]\n",
    "date_crime_temp.rename(columns=({'complaint_date': 'complaint_count'}), inplace=True)\n",
    "date_crime_temp.head()"
   ]
  },
  {
   "cell_type": "code",
   "execution_count": 11,
   "metadata": {},
   "outputs": [
    {
     "data": {
      "text/html": [
       "<div>\n",
       "<style scoped>\n",
       "    .dataframe tbody tr th:only-of-type {\n",
       "        vertical-align: middle;\n",
       "    }\n",
       "\n",
       "    .dataframe tbody tr th {\n",
       "        vertical-align: top;\n",
       "    }\n",
       "\n",
       "    .dataframe thead th {\n",
       "        text-align: right;\n",
       "    }\n",
       "</style>\n",
       "<table border=\"1\" class=\"dataframe\">\n",
       "  <thead>\n",
       "    <tr style=\"text-align: right;\">\n",
       "      <th></th>\n",
       "      <th>date</th>\n",
       "      <th>complaint_count</th>\n",
       "      <th>max_temp</th>\n",
       "      <th>day</th>\n",
       "      <th>day of week</th>\n",
       "      <th>month</th>\n",
       "      <th>year</th>\n",
       "    </tr>\n",
       "  </thead>\n",
       "  <tbody>\n",
       "    <tr>\n",
       "      <th>1456</th>\n",
       "      <td>2017-12-27</td>\n",
       "      <td>939</td>\n",
       "      <td>24</td>\n",
       "      <td>27</td>\n",
       "      <td>2</td>\n",
       "      <td>12</td>\n",
       "      <td>2017</td>\n",
       "    </tr>\n",
       "    <tr>\n",
       "      <th>1457</th>\n",
       "      <td>2017-12-28</td>\n",
       "      <td>905</td>\n",
       "      <td>18</td>\n",
       "      <td>28</td>\n",
       "      <td>3</td>\n",
       "      <td>12</td>\n",
       "      <td>2017</td>\n",
       "    </tr>\n",
       "    <tr>\n",
       "      <th>1458</th>\n",
       "      <td>2017-12-29</td>\n",
       "      <td>895</td>\n",
       "      <td>22</td>\n",
       "      <td>29</td>\n",
       "      <td>4</td>\n",
       "      <td>12</td>\n",
       "      <td>2017</td>\n",
       "    </tr>\n",
       "    <tr>\n",
       "      <th>1459</th>\n",
       "      <td>2017-12-30</td>\n",
       "      <td>840</td>\n",
       "      <td>23</td>\n",
       "      <td>30</td>\n",
       "      <td>5</td>\n",
       "      <td>12</td>\n",
       "      <td>2017</td>\n",
       "    </tr>\n",
       "    <tr>\n",
       "      <th>1460</th>\n",
       "      <td>2017-12-31</td>\n",
       "      <td>609</td>\n",
       "      <td>21</td>\n",
       "      <td>31</td>\n",
       "      <td>6</td>\n",
       "      <td>12</td>\n",
       "      <td>2017</td>\n",
       "    </tr>\n",
       "  </tbody>\n",
       "</table>\n",
       "</div>"
      ],
      "text/plain": [
       "           date  complaint_count  max_temp  day  day of week  month  year\n",
       "1456 2017-12-27              939        24   27            2     12  2017\n",
       "1457 2017-12-28              905        18   28            3     12  2017\n",
       "1458 2017-12-29              895        22   29            4     12  2017\n",
       "1459 2017-12-30              840        23   30            5     12  2017\n",
       "1460 2017-12-31              609        21   31            6     12  2017"
      ]
     },
     "execution_count": 11,
     "metadata": {},
     "output_type": "execute_result"
    }
   ],
   "source": [
    "date_crime_temp['day'] = date_crime_temp.date.dt.day\n",
    "date_crime_temp['day of week'] = date_crime_temp.date.dt.dayofweek\n",
    "date_crime_temp['month'] = date_crime_temp.date.dt.month\n",
    "date_crime_temp['year'] = date_crime_temp.date.dt.year\n",
    "\n",
    "\n",
    "date_crime_temp.tail()"
   ]
  },
  {
   "cell_type": "code",
   "execution_count": 12,
   "metadata": {},
   "outputs": [
    {
     "data": {
      "text/plain": [
       "<matplotlib.axes._subplots.AxesSubplot at 0x1144bf630>"
      ]
     },
     "execution_count": 12,
     "metadata": {},
     "output_type": "execute_result"
    },
    {
     "data": {
      "image/png": "[encoded data removed]",
      "text/plain": [
       "<Figure size 432x288 with 1 Axes>"
      ]
     },
     "metadata": {
      "needs_background": "light"
     },
     "output_type": "display_data"
    }
   ],
   "source": [
    "date_crime_temp[['complaint_count']].plot()"
   ]
  },
  {
   "cell_type": "code",
   "execution_count": 13,
   "metadata": {},
   "outputs": [
    {
     "data": {
      "text/plain": [
       "<matplotlib.axes._subplots.AxesSubplot at 0x102677c88>"
      ]
     },
     "execution_count": 13,
     "metadata": {},
     "output_type": "execute_result"
    },
    {
     "data": {
      "image/png": "[encoded data removed]",
      "text/plain": [
       "<Figure size 432x288 with 1 Axes>"
      ]
     },
     "metadata": {
      "needs_background": "light"
     },
     "output_type": "display_data"
    }
   ],
   "source": [
    "#plt.plot(date_crime_temp.CMPLNT_NUM, date_crime_temp.max_temp, '*')\n",
    "sns.regplot(date_crime_temp.complaint_count, date_crime_temp.max_temp)"
   ]
  },
  {
   "cell_type": "code",
   "execution_count": 14,
   "metadata": {},
   "outputs": [
    {
     "data": {
      "text/plain": [
       "1168.8"
      ]
     },
     "execution_count": 14,
     "metadata": {},
     "output_type": "execute_result"
    }
   ],
   "source": [
    "date_crime_temp.shape[0]*0.8"
   ]
  },
  {
   "cell_type": "code",
   "execution_count": 15,
   "metadata": {},
   "outputs": [
    {
     "data": {
      "text/html": [
       "<div>\n",
       "<style scoped>\n",
       "    .dataframe tbody tr th:only-of-type {\n",
       "        vertical-align: middle;\n",
       "    }\n",
       "\n",
       "    .dataframe tbody tr th {\n",
       "        vertical-align: top;\n",
       "    }\n",
       "\n",
       "    .dataframe thead th {\n",
       "        text-align: right;\n",
       "    }\n",
       "</style>\n",
       "<table border=\"1\" class=\"dataframe\">\n",
       "  <thead>\n",
       "    <tr style=\"text-align: right;\">\n",
       "      <th></th>\n",
       "      <th>complaint_count</th>\n",
       "      <th>max_temp</th>\n",
       "      <th>day</th>\n",
       "      <th>day of week</th>\n",
       "      <th>month</th>\n",
       "      <th>year</th>\n",
       "    </tr>\n",
       "    <tr>\n",
       "      <th>date</th>\n",
       "      <th></th>\n",
       "      <th></th>\n",
       "      <th></th>\n",
       "      <th></th>\n",
       "      <th></th>\n",
       "      <th></th>\n",
       "    </tr>\n",
       "  </thead>\n",
       "  <tbody>\n",
       "    <tr>\n",
       "      <th>2014-01-01</th>\n",
       "      <td>2281</td>\n",
       "      <td>33</td>\n",
       "      <td>1</td>\n",
       "      <td>2</td>\n",
       "      <td>1</td>\n",
       "      <td>2014</td>\n",
       "    </tr>\n",
       "    <tr>\n",
       "      <th>2014-01-02</th>\n",
       "      <td>1098</td>\n",
       "      <td>33</td>\n",
       "      <td>2</td>\n",
       "      <td>3</td>\n",
       "      <td>1</td>\n",
       "      <td>2014</td>\n",
       "    </tr>\n",
       "    <tr>\n",
       "      <th>2014-01-03</th>\n",
       "      <td>974</td>\n",
       "      <td>18</td>\n",
       "      <td>3</td>\n",
       "      <td>4</td>\n",
       "      <td>1</td>\n",
       "      <td>2014</td>\n",
       "    </tr>\n",
       "    <tr>\n",
       "      <th>2014-01-04</th>\n",
       "      <td>1049</td>\n",
       "      <td>29</td>\n",
       "      <td>4</td>\n",
       "      <td>5</td>\n",
       "      <td>1</td>\n",
       "      <td>2014</td>\n",
       "    </tr>\n",
       "    <tr>\n",
       "      <th>2014-01-05</th>\n",
       "      <td>1017</td>\n",
       "      <td>40</td>\n",
       "      <td>5</td>\n",
       "      <td>6</td>\n",
       "      <td>1</td>\n",
       "      <td>2014</td>\n",
       "    </tr>\n",
       "  </tbody>\n",
       "</table>\n",
       "</div>"
      ],
      "text/plain": [
       "            complaint_count  max_temp  day  day of week  month  year\n",
       "date                                                                \n",
       "2014-01-01             2281        33    1            2      1  2014\n",
       "2014-01-02             1098        33    2            3      1  2014\n",
       "2014-01-03              974        18    3            4      1  2014\n",
       "2014-01-04             1049        29    4            5      1  2014\n",
       "2014-01-05             1017        40    5            6      1  2014"
      ]
     },
     "execution_count": 15,
     "metadata": {},
     "output_type": "execute_result"
    }
   ],
   "source": [
    "date_crime_temp.set_index('date', inplace=True)\n",
    "date_crime_temp.head()"
   ]
  },
  {
   "cell_type": "code",
   "execution_count": 16,
   "metadata": {},
   "outputs": [],
   "source": [
    "train = date_crime_temp.iloc[:1168]"
   ]
  },
  {
   "cell_type": "code",
   "execution_count": 17,
   "metadata": {},
   "outputs": [],
   "source": [
    "test = date_crime_temp.iloc[1169:]"
   ]
  },
  {
   "cell_type": "code",
   "execution_count": 18,
   "metadata": {},
   "outputs": [
    {
     "data": {
      "text/plain": [
       "(-2.1016091140959476,\n",
       " 0.24386806111723225,\n",
       " 22,\n",
       " 1145,\n",
       " {'1%': -3.4360740356772745,\n",
       "  '5%': -2.864067535683479,\n",
       "  '10%': -2.5681157233843748},\n",
       " 14167.512514257705)"
      ]
     },
     "execution_count": 18,
     "metadata": {},
     "output_type": "execute_result"
    }
   ],
   "source": [
    "from statsmodels.tsa.stattools import adfuller\n",
    "adfuller(train.complaint_count)"
   ]
  },
  {
   "cell_type": "code",
   "execution_count": 19,
   "metadata": {},
   "outputs": [
    {
     "name": "stdout",
     "output_type": "stream",
     "text": [
      "Checking difference of 1.\n",
      "p-value = 2.2939410019681833e-20.\n",
      "Differencing our time series by d=1 yields a stationary time series!\n"
     ]
    }
   ],
   "source": [
    "def interpret_dftest(dftest):\n",
    "    dfoutput = pd.Series(dftest[0:2], index=['Test Statistic','p-value'])\n",
    "    return dfoutput\n",
    "\n",
    "# Iterate through all possible differences.\n",
    "for d in range(1, len(train.complaint_count)):\n",
    "    \n",
    "    # Print out a counter and the corresponding p-value.\n",
    "    print(f'Checking difference of {d}.')\n",
    "    print(f'p-value = {interpret_dftest(adfuller(train.complaint_count.diff(d).dropna()))[\"p-value\"]}.')\n",
    "          \n",
    "    # If our data, differenced by d time periods, are stationary, print that out!\n",
    "    if interpret_dftest(adfuller(train.complaint_count.diff(d).dropna()))['p-value'] < 0.05:\n",
    "        print(f'Differencing our time series by d={d} yields a stationary time series!')\n",
    "        break\n",
    "    \n",
    "    print()"
   ]
  },
  {
   "cell_type": "code",
   "execution_count": 20,
   "metadata": {},
   "outputs": [
    {
     "data": {
      "text/plain": [
       "[<matplotlib.lines.Line2D at 0x114a38cf8>]"
      ]
     },
     "execution_count": 20,
     "metadata": {},
     "output_type": "execute_result"
    },
    {
     "data": {
      "image/png": "[encoded data removed]",
      "text/plain": [
       "<Figure size 432x288 with 1 Axes>"
      ]
     },
     "metadata": {
      "needs_background": "light"
     },
     "output_type": "display_data"
    }
   ],
   "source": [
    "plt.plot(train.complaint_count.diff(1))"
   ]
  },
  {
   "cell_type": "code",
   "execution_count": 21,
   "metadata": {},
   "outputs": [
    {
     "data": {
      "image/png": "[encoded data removed]",
      "text/plain": [
       "<Figure size 648x360 with 1 Axes>"
      ]
     },
     "metadata": {
      "needs_background": "light"
     },
     "output_type": "display_data"
    }
   ],
   "source": [
    "import statsmodels.api as sm\n",
    "from statsmodels.tsa.stattools import acf, pacf\n",
    "from statsmodels.graphics.tsaplots import plot_acf, plot_pacf\n",
    "from statsmodels.tsa.seasonal import seasonal_decompose\n",
    "\n",
    "# Set figure/axes.\n",
    "fig, ax = plt.subplots(figsize=(9,5))\n",
    "\n",
    "# Generate plot.\n",
    "plot_acf(train.complaint_count.diff(1).dropna(), lags=30, ax=ax);"
   ]
  },
  {
   "cell_type": "code",
   "execution_count": 22,
   "metadata": {},
   "outputs": [
    {
     "data": {
      "image/png": "[encoded data removed]",
      "text/plain": [
       "<Figure size 648x360 with 1 Axes>"
      ]
     },
     "metadata": {
      "needs_background": "light"
     },
     "output_type": "display_data"
    }
   ],
   "source": [
    "# Set figure/axes.\n",
    "fig, ax = plt.subplots(figsize=(9,5))\n",
    "\n",
    "# Generate plot.\n",
    "plot_pacf(train.complaint_count.diff(1).dropna(), lags=30, ax=ax);"
   ]
  },
  {
   "cell_type": "code",
   "execution_count": 23,
   "metadata": {},
   "outputs": [],
   "source": [
    "# Import ARIMA model.\n",
    "from statsmodels.tsa.arima_model import ARIMA"
   ]
  },
  {
   "cell_type": "code",
   "execution_count": 25,
   "metadata": {},
   "outputs": [
    {
     "name": "stderr",
     "output_type": "stream",
     "text": [
      "/Users/kevinc/anaconda3/lib/python3.6/site-packages/statsmodels/tsa/base/tsa_model.py:171: ValueWarning: No frequency information was provided, so inferred frequency D will be used.\n",
      "  % freq, ValueWarning)\n",
      "/Users/kevinc/anaconda3/lib/python3.6/site-packages/statsmodels/tsa/base/tsa_model.py:191: FutureWarning: Creating a DatetimeIndex by passing range endpoints is deprecated.  Use `pandas.date_range` instead.\n",
      "  start=index[0], end=index[-1], freq=freq)\n"
     ]
    },
    {
     "data": {
      "text/plain": [
       "0.32391004909522136"
      ]
     },
     "execution_count": 25,
     "metadata": {},
     "output_type": "execute_result"
    }
   ],
   "source": [
    "# Instantiate model.\n",
    "model = ARIMA(endog = train.complaint_count.diff(1).dropna(), # endog = Y variable\n",
    "              order = (1,0,1)) # (p, d, q)\n",
    "\n",
    "# Fit model.\n",
    "arima_1_0_1 = model.fit()\n",
    "\n",
    "# Generate predictions.\n",
    "preds = arima_1_0_1.predict()\n",
    "\n",
    "preds.head()\n",
    "\n",
    "from sklearn.metrics import r2_score\n",
    "r2_score(train.complaint_count.diff(1).dropna(), preds)"
   ]
  },
  {
   "cell_type": "code",
   "execution_count": 26,
   "metadata": {},
   "outputs": [],
   "source": [
    "import warnings\n",
    "warnings.filterwarnings('ignore')"
   ]
  },
  {
   "cell_type": "markdown",
   "metadata": {},
   "source": [
    "## GridSearch over Basic ARIMA Model"
   ]
  },
  {
   "cell_type": "code",
   "execution_count": 27,
   "metadata": {},
   "outputs": [
    {
     "name": "stdout",
     "output_type": "stream",
     "text": [
      "1 1 0 r2 0.29156883813866996\n",
      "1 1 1 r2 0.32391004909522136\n",
      "1 1 2 r2 0.32587004786053975\n",
      "1 1 3 r2 0.3300613527502747\n",
      "1 1 4 r2 0.33432119235242386\n",
      "1 1 5 r2 0.3374511099374997\n",
      "1 1 6 r2 0.33786001963623413\n"
     ]
    }
   ],
   "source": [
    "# Instantiate model.\n",
    "\n",
    "# Remember that, in statsmodels, we pass our data \n",
    "# in when we instantiate the model!\n",
    "\n",
    "for i in range(7):\n",
    "    for j in range(7):\n",
    "        for k in range(1,2):\n",
    "            try:\n",
    "                model = ARIMA(endog = train.complaint_count.astype('float32').dropna(), # endog = Y variable\n",
    "                          order = (i,j,k)) # (p, d, q) <-- talk about q later!\n",
    "\n",
    "                # Note that we manually difference our data.\n",
    "                # In the present version of statsmodels, only\n",
    "                # certain values of d are supported.\n",
    "\n",
    "                # Fit model.\n",
    "                arima_0_0_0 = model.fit()\n",
    "\n",
    "                # Generate predictions.\n",
    "                preds = arima_0_0_0.predict()\n",
    "\n",
    "                from sklearn.metrics import r2_score\n",
    "                print(j, k, i, 'r2', r2_score(train.complaint_count.diff(1).dropna(), preds))\n",
    "            except:\n",
    "                pass\n"
   ]
  },
  {
   "cell_type": "code",
   "execution_count": 28,
   "metadata": {},
   "outputs": [
    {
     "data": {
      "image/png": "[encoded data removed]",
      "text/plain": [
       "<Figure size 720x432 with 1 Axes>"
      ]
     },
     "metadata": {
      "needs_background": "light"
     },
     "output_type": "display_data"
    }
   ],
   "source": [
    "# Plot data.\n",
    "plt.figure(figsize=(10,6))\n",
    "plt.plot(train.complaint_count.diff(1).dropna(), color = 'blue')\n",
    "plt.plot(preds, color = 'orange')\n",
    "#plt.title(label = 'Bus Ridership with ARIMA(1,4,0) Predictions', fontsize=18)\n",
    "plt.show();"
   ]
  },
  {
   "cell_type": "markdown",
   "metadata": {},
   "source": [
    "## Grid Search over SARIMA Model, No Exogenous Feature"
   ]
  },
  {
   "cell_type": "code",
   "execution_count": 30,
   "metadata": {},
   "outputs": [],
   "source": [
    "from statsmodels.tsa.statespace.sarimax import SARIMAX\n",
    "from sklearn.metrics import mean_squared_error"
   ]
  },
  {
   "cell_type": "code",
   "execution_count": null,
   "metadata": {
    "scrolled": true
   },
   "outputs": [],
   "source": [
    "# Starting MSE and (P, D, Q).\n",
    "mse = 99 * (10 ** 50)\n",
    "final_p = 0\n",
    "final_d = 0\n",
    "final_q = 0\n",
    "final_P = 0\n",
    "final_D = 0\n",
    "final_Q = 0\n",
    "final_S = 0\n",
    "\n",
    "\n",
    "for p in [0,1,5]:\n",
    "    for d in range(2):\n",
    "        for q in [0,1,3]:\n",
    "            for P in range(3):\n",
    "                for Q in range(3):\n",
    "                    for D in range(3):\n",
    "                        for S in [0,1,7]:\n",
    "                            try:\n",
    "                                sarima = SARIMAX(endog = train.complaint_count,\n",
    "                                                 order = (p, d, q),              # (p, d, q)\n",
    "                                                 seasonal_order = (P, D, Q, S)) # (P, D, Q, S)\n",
    "\n",
    "                                # Fit SARIMA model.\n",
    "                                model = sarima.fit()\n",
    "\n",
    "                                # Generate predictions based on test set.\n",
    "                                # Start at time period 91 and end at 113.\n",
    "                                preds = model.predict(start=292, end=364)\n",
    "\n",
    "                                print(f'The MSE for (1,0,0)x({P},{D},{Q},{S}) is: {mean_squared_error(test.complaint_count, preds)}')\n",
    "\n",
    "                                # Save for final report.\n",
    "                                if mse > mean_squared_error(test.complaint_count, preds):\n",
    "                                    mse = mean_squared_error(test.complaint_count, preds)\n",
    "                                    final_p = p\n",
    "                                    final_d = d\n",
    "                                    final_q = q\n",
    "                                    final_P = P\n",
    "                                    final_D = D\n",
    "                                    final_Q = Q\n",
    "                                    final_S = S\n",
    "\n",
    "                            except:\n",
    "                                pass\n",
    "\n",
    "# Evaluate predictions.\n",
    "print(f'Our model that minimizes MSE on the training data is the SARIMA({final_p}, {final_d}, {final_q})x({final_P},{final_D},{final_Q},{final_S}).')\n",
    "print(f'This model has an MSE of {mse}.')\n",
    "\n",
    "# Plot data.\n",
    "plt.figure(figsize=(10,6))\n",
    "plt.plot(train.complaint_count, color = 'blue', label='Train')\n",
    "plt.plot(test.complaint_count, color = 'orange', label='Test')\n",
    "plt.plot(preds, color = 'green', label='Predictions')\n",
    "plt.title(label = f'Daily Crime Volume with SARIMA({final_p}, {final_d}, {final_q})x({final_P},{final_D},{final_Q},{final_S}) Predictions', fontsize=16)\n",
    "plt.legend()\n",
    "plt.show();"
   ]
  },
  {
   "cell_type": "code",
   "execution_count": null,
   "metadata": {},
   "outputs": [],
   "source": []
  },
  {
   "cell_type": "code",
   "execution_count": 577,
   "metadata": {},
   "outputs": [
    {
     "name": "stdout",
     "output_type": "stream",
     "text": [
      "The MSE for (1,0,0)x(0,0,0,0) is: 68250.51170322401\n",
      "The MSE for (1,0,0)x(0,0,0,1) is: 68250.51170322401\n",
      "The MSE for (1,0,0)x(0,0,0,7) is: 68250.51170322401\n",
      "The MSE for (1,0,0)x(0,1,0,1) is: 27985.873263250352\n",
      "The MSE for (1,0,0)x(0,1,0,7) is: 44980.424416797265\n",
      "The MSE for (1,0,0)x(0,2,0,1) is: 57050914.72122985\n",
      "The MSE for (1,0,0)x(0,2,0,7) is: 976586.1886813012\n",
      "The MSE for (1,0,0)x(0,0,1,0) is: 29992.89926589145\n",
      "The MSE for (1,0,0)x(0,0,1,1) is: 29992.89926589145\n",
      "The MSE for (1,0,0)x(0,0,1,7) is: 105102.93837415529\n",
      "The MSE for (1,0,0)x(0,1,1,1) is: 30191.19240662922\n",
      "The MSE for (1,0,0)x(0,1,1,7) is: 26792.0743956449\n",
      "The MSE for (1,0,0)x(0,2,1,1) is: 15558.186179280663\n",
      "The MSE for (1,0,0)x(0,0,2,0) is: 30281.676047577956\n",
      "The MSE for (1,0,0)x(0,0,2,1) is: 30281.676047577956\n",
      "The MSE for (1,0,0)x(0,0,2,7) is: 146617.18997776898\n",
      "The MSE for (1,0,0)x(0,1,2,1) is: 30180.160304082186\n",
      "The MSE for (1,0,0)x(0,1,2,7) is: 26783.13123723265\n",
      "The MSE for (1,0,0)x(0,2,2,7) is: 26272.68547694276\n",
      "The MSE for (1,0,0)x(1,0,0,0) is: 174139.80617600074\n",
      "The MSE for (1,0,0)x(1,0,0,1) is: 174139.80617600074\n",
      "The MSE for (1,0,0)x(1,0,0,7) is: 160576.57591198856\n",
      "The MSE for (1,0,0)x(1,1,0,1) is: 30175.37011479534\n",
      "The MSE for (1,0,0)x(1,1,0,7) is: 35778.13263008033\n",
      "The MSE for (1,0,0)x(1,2,0,1) is: 36093032.979770325\n",
      "The MSE for (1,0,0)x(1,2,0,7) is: 363314.9681346826\n",
      "The MSE for (1,0,0)x(1,0,1,0) is: 30826.016488133864\n",
      "The MSE for (1,0,0)x(1,0,1,1) is: 30826.016488133864\n",
      "The MSE for (1,0,0)x(1,0,1,7) is: 26481.535021085117\n",
      "The MSE for (1,0,0)x(1,1,1,1) is: 30204.356240864876\n",
      "The MSE for (1,0,0)x(1,1,1,7) is: 26777.451046096252\n",
      "The MSE for (1,0,0)x(1,2,1,1) is: 15472.327335536285\n",
      "The MSE for (1,0,0)x(1,2,1,7) is: 36366.06634770781\n",
      "The MSE for (1,0,0)x(1,0,2,0) is: 32572.31926325098\n",
      "The MSE for (1,0,0)x(1,0,2,1) is: 32572.31926325098\n",
      "The MSE for (1,0,0)x(1,0,2,7) is: 27123.15035799059\n",
      "The MSE for (1,0,0)x(1,1,2,1) is: 30177.405731915955\n",
      "The MSE for (1,0,0)x(1,1,2,7) is: 27213.26313053175\n",
      "The MSE for (1,0,0)x(2,0,0,0) is: 18520.58304968224\n",
      "The MSE for (1,0,0)x(2,0,0,1) is: 18520.58304968224\n",
      "The MSE for (1,0,0)x(2,0,0,7) is: 28554.847615007304\n",
      "The MSE for (1,0,0)x(2,1,0,1) is: 46840.949895860474\n",
      "The MSE for (1,0,0)x(2,1,0,7) is: 36572.08062671231\n",
      "The MSE for (1,0,0)x(2,2,0,1) is: 6294722.045324191\n",
      "The MSE for (1,0,0)x(2,2,0,7) is: 260135.8442879532\n",
      "The MSE for (1,0,0)x(2,0,1,7) is: 26267.094293953276\n",
      "The MSE for (1,0,0)x(2,1,1,1) is: 29898.977000861014\n",
      "The MSE for (1,0,0)x(2,1,1,7) is: 26909.595267266614\n",
      "The MSE for (1,0,0)x(2,2,1,1) is: 30899.47188395454\n",
      "The MSE for (1,0,0)x(2,2,1,7) is: 35528.51028618157\n",
      "The MSE for (1,0,0)x(2,0,2,7) is: 26247.820298950424\n",
      "The MSE for (1,0,0)x(2,1,2,7) is: 26707.440385783862\n",
      "The MSE for (1,0,0)x(2,2,2,7) is: 24487.328664095414\n",
      "The MSE for (1,0,1)x(0,0,0,0) is: 29899.230199276037\n",
      "The MSE for (1,0,1)x(0,0,0,1) is: 29899.230199276037\n",
      "The MSE for (1,0,1)x(0,0,0,7) is: 29899.230199276037\n",
      "The MSE for (1,0,1)x(0,1,0,1) is: 30189.896707399563\n",
      "The MSE for (1,0,1)x(0,1,0,7) is: 45032.90589213921\n",
      "The MSE for (1,0,1)x(0,2,0,1) is: 15558.31429407825\n",
      "The MSE for (1,0,1)x(0,2,0,7) is: 981754.8229136477\n",
      "The MSE for (1,0,1)x(0,0,1,0) is: 30217.600981725373\n",
      "The MSE for (1,0,1)x(0,0,1,1) is: 30217.600981725373\n",
      "The MSE for (1,0,1)x(0,0,1,7) is: 29305.403286700974\n",
      "The MSE for (1,0,1)x(0,1,1,1) is: 30180.03963469432\n",
      "The MSE for (1,0,1)x(0,1,1,7) is: 26825.123080545964\n",
      "The MSE for (1,0,1)x(0,2,1,1) is: 34487.49548600596\n",
      "The MSE for (1,0,1)x(0,0,2,0) is: 33400.36179151581\n",
      "The MSE for (1,0,1)x(0,0,2,1) is: 33400.36179151581\n",
      "The MSE for (1,0,1)x(0,0,2,7) is: 28876.176243647016\n",
      "The MSE for (1,0,1)x(0,1,2,1) is: 29778.421377712268\n",
      "The MSE for (1,0,1)x(0,1,2,7) is: 26810.651905016803\n",
      "The MSE for (1,0,1)x(0,2,2,7) is: 26901.130868852408\n",
      "The MSE for (1,0,1)x(1,0,0,0) is: 30190.870215725965\n",
      "The MSE for (1,0,1)x(1,0,0,1) is: 30190.870215725965\n",
      "The MSE for (1,0,1)x(1,0,0,7) is: 28250.127057696358\n",
      "The MSE for (1,0,1)x(1,1,0,1) is: 30203.177489053618\n",
      "The MSE for (1,0,1)x(1,1,0,7) is: 35779.95494090026\n",
      "The MSE for (1,0,1)x(1,2,0,1) is: 15462.489959439114\n",
      "The MSE for (1,0,1)x(1,2,0,7) is: 327594.814502628\n",
      "The MSE for (1,0,1)x(1,0,1,0) is: 33016.66318985349\n",
      "The MSE for (1,0,1)x(1,0,1,1) is: 33016.66318985349\n",
      "The MSE for (1,0,1)x(1,0,1,7) is: 26790.14409366401\n",
      "The MSE for (1,0,1)x(1,1,1,1) is: 34637.34392645208\n",
      "The MSE for (1,0,1)x(1,1,1,7) is: 26805.53695947137\n",
      "The MSE for (1,0,1)x(1,2,1,1) is: 34287.67148232411\n",
      "The MSE for (1,0,1)x(1,2,1,7) is: 36057.87208064128\n",
      "The MSE for (1,0,1)x(1,0,2,0) is: 33025.820154521854\n",
      "The MSE for (1,0,1)x(1,0,2,1) is: 33025.820154521854\n",
      "The MSE for (1,0,1)x(1,0,2,7) is: 27102.86466732595\n",
      "The MSE for (1,0,1)x(1,1,2,1) is: 29776.04816705682\n",
      "The MSE for (1,0,1)x(1,1,2,7) is: 27549.418556496963\n",
      "The MSE for (1,0,1)x(2,0,0,0) is: 31734.154649919314\n",
      "The MSE for (1,0,1)x(2,0,0,1) is: 31734.154649919314\n",
      "The MSE for (1,0,1)x(2,0,0,7) is: 29468.82243594801\n",
      "The MSE for (1,0,1)x(2,1,0,1) is: 29899.646068212627\n",
      "The MSE for (1,0,1)x(2,1,0,7) is: 36591.653950475986\n",
      "The MSE for (1,0,1)x(2,2,0,1) is: 30918.649715320673\n",
      "The MSE for (1,0,1)x(2,2,0,7) is: 197924.80027342323\n",
      "The MSE for (1,0,1)x(2,0,1,7) is: 23342.341217248682\n",
      "The MSE for (1,0,1)x(2,1,1,1) is: 29627.533797701406\n",
      "The MSE for (1,0,1)x(2,1,1,7) is: 26893.336769501304\n",
      "The MSE for (1,0,1)x(2,2,1,1) is: 34446.69527666995\n",
      "The MSE for (1,0,1)x(2,2,1,7) is: 35531.508339862405\n",
      "The MSE for (1,0,1)x(2,0,2,7) is: 27283.401773401187\n",
      "The MSE for (1,0,1)x(2,1,2,7) is: 26740.7737385565\n",
      "The MSE for (1,0,1)x(2,2,2,7) is: 59224.03260990508\n",
      "The MSE for (1,0,3)x(0,0,0,0) is: 34899.170812158445\n",
      "The MSE for (1,0,3)x(0,0,0,1) is: 34899.170812158445\n",
      "The MSE for (1,0,3)x(0,0,0,7) is: 34899.170812158445\n",
      "The MSE for (1,0,3)x(0,0,1,0) is: 33530.931006885105\n",
      "The MSE for (1,0,3)x(0,0,1,1) is: 33530.931006885105\n",
      "The MSE for (1,0,3)x(0,0,1,7) is: 29912.302275399372\n",
      "The MSE for (1,0,3)x(0,0,2,0) is: 30598.41307069627\n",
      "The MSE for (1,0,3)x(0,0,2,1) is: 30598.41307069627\n",
      "The MSE for (1,0,3)x(0,0,2,7) is: 33271.69382807566\n",
      "The MSE for (1,0,3)x(1,0,0,0) is: 38203.674287380396\n",
      "The MSE for (1,0,3)x(1,0,0,1) is: 38203.674287380396\n",
      "The MSE for (1,0,3)x(1,0,0,7) is: 30091.88424880105\n",
      "The MSE for (1,0,3)x(1,0,1,0) is: 33445.56101140935\n",
      "The MSE for (1,0,3)x(1,0,1,1) is: 33445.56101140935\n",
      "The MSE for (1,0,3)x(1,0,1,7) is: 26711.261869116774\n",
      "The MSE for (1,0,3)x(1,0,2,0) is: 35058.432062026484\n",
      "The MSE for (1,0,3)x(1,0,2,1) is: 35058.432062026484\n",
      "The MSE for (1,0,3)x(1,0,2,7) is: 26018.947312917444\n",
      "The MSE for (1,0,3)x(2,0,0,0) is: 34784.32785167633\n",
      "The MSE for (1,0,3)x(2,0,0,1) is: 34784.32785167633\n",
      "The MSE for (1,0,3)x(2,0,0,7) is: 28932.810978806232\n",
      "The MSE for (1,0,3)x(2,0,1,7) is: 26282.440537785715\n",
      "The MSE for (1,0,3)x(2,0,2,7) is: 27302.26533083856\n",
      "The MSE for (1,1,0)x(0,0,0,0) is: 27985.873263250352\n",
      "The MSE for (1,1,0)x(0,0,0,1) is: 27985.873263250352\n",
      "The MSE for (1,1,0)x(0,0,0,7) is: 27985.873263250352\n",
      "The MSE for (1,1,0)x(0,1,0,1) is: 57050914.72122985\n",
      "The MSE for (1,1,0)x(0,1,0,7) is: 408787.8978402173\n",
      "The MSE for (1,1,0)x(0,2,0,1) is: 79136282037.65118\n",
      "The MSE for (1,1,0)x(0,2,0,7) is: 12464038.224267114\n",
      "The MSE for (1,1,0)x(0,0,1,0) is: 30191.19240662922\n",
      "The MSE for (1,1,0)x(0,0,1,1) is: 30191.19240662922\n",
      "The MSE for (1,1,0)x(0,0,1,7) is: 30865.118895114003\n",
      "The MSE for (1,1,0)x(0,1,1,1) is: 15558.186179280663\n",
      "The MSE for (1,1,0)x(0,1,1,7) is: 39127.765171146195\n",
      "The MSE for (1,1,0)x(0,0,2,0) is: 30180.160304082186\n",
      "The MSE for (1,1,0)x(0,0,2,1) is: 30180.160304082186\n",
      "The MSE for (1,1,0)x(0,0,2,7) is: 34071.613857865676\n",
      "The MSE for (1,1,0)x(0,1,2,7) is: 40384.62747978505\n",
      "The MSE for (1,1,0)x(0,2,2,1) is: 60104.14228078208\n",
      "The MSE for (1,1,0)x(1,0,0,0) is: 30175.37011479534\n",
      "The MSE for (1,1,0)x(1,0,0,1) is: 30175.37011479534\n",
      "The MSE for (1,1,0)x(1,0,0,7) is: 36578.48245283606\n",
      "The MSE for (1,1,0)x(1,1,0,1) is: 36093032.979770325\n",
      "The MSE for (1,1,0)x(1,1,0,7) is: 185083.73384481718\n",
      "The MSE for (1,1,0)x(1,2,0,1) is: 51235959628.51657\n",
      "The MSE for (1,1,0)x(1,2,0,7) is: 1488166.9186977393\n",
      "The MSE for (1,1,0)x(1,0,1,0) is: 30204.356240864876\n",
      "The MSE for (1,1,0)x(1,0,1,1) is: 30204.356240864876\n",
      "The MSE for (1,1,0)x(1,0,1,7) is: 36548.03421640289\n"
     ]
    },
    {
     "name": "stdout",
     "output_type": "stream",
     "text": [
      "The MSE for (1,1,0)x(1,1,1,1) is: 15472.327335536285\n",
      "The MSE for (1,1,0)x(1,1,1,7) is: 40739.15907078251\n",
      "The MSE for (1,1,0)x(1,2,1,7) is: 449729.4577127097\n",
      "The MSE for (1,1,0)x(1,0,2,0) is: 30177.405731915955\n",
      "The MSE for (1,1,0)x(1,0,2,1) is: 30177.405731915955\n",
      "The MSE for (1,1,0)x(1,0,2,7) is: 37590.18197103624\n",
      "The MSE for (1,1,0)x(1,1,2,7) is: 35334.84995652481\n",
      "The MSE for (1,1,0)x(2,0,0,0) is: 46840.949895860474\n",
      "The MSE for (1,1,0)x(2,0,0,1) is: 46840.949895860474\n",
      "The MSE for (1,1,0)x(2,0,0,7) is: 51018.3374920214\n",
      "The MSE for (1,1,0)x(2,1,0,1) is: 6294722.045324191\n",
      "The MSE for (1,1,0)x(2,1,0,7) is: 170379.25275052455\n",
      "The MSE for (1,1,0)x(2,2,0,1) is: 7070236049.48414\n",
      "The MSE for (1,1,0)x(2,2,0,7) is: 1988292.2237401935\n",
      "The MSE for (1,1,0)x(2,0,1,0) is: 29898.977000861014\n",
      "The MSE for (1,1,0)x(2,0,1,1) is: 29898.977000861014\n",
      "The MSE for (1,1,0)x(2,0,1,7) is: 37892.124096481995\n",
      "The MSE for (1,1,0)x(2,1,1,1) is: 30899.47188395454\n",
      "The MSE for (1,1,0)x(2,1,1,7) is: 23516.538663407584\n",
      "The MSE for (1,1,0)x(2,2,1,7) is: 432813.6021730199\n",
      "The MSE for (1,1,0)x(2,0,2,7) is: 38180.95786102566\n",
      "The MSE for (1,1,0)x(2,1,2,7) is: 32150.871493475945\n",
      "The MSE for (1,1,0)x(2,2,2,7) is: 460405.91345813166\n",
      "The MSE for (1,1,1)x(0,0,0,0) is: 30189.896707399563\n",
      "The MSE for (1,1,1)x(0,0,0,1) is: 30189.896707399563\n",
      "The MSE for (1,1,1)x(0,0,0,7) is: 30189.896707399563\n",
      "The MSE for (1,1,1)x(0,1,0,1) is: 15558.31429407825\n",
      "The MSE for (1,1,1)x(0,1,0,7) is: 45493.581640877885\n",
      "The MSE for (1,1,1)x(0,2,0,7) is: 1047481.9538802819\n",
      "The MSE for (1,1,1)x(0,0,1,0) is: 30180.03963469432\n",
      "The MSE for (1,1,1)x(0,0,1,1) is: 30180.03963469432\n",
      "The MSE for (1,1,1)x(0,0,1,7) is: 29588.872663955146\n",
      "The MSE for (1,1,1)x(0,1,1,1) is: 34487.49548600596\n",
      "The MSE for (1,1,1)x(0,1,1,7) is: 27320.516327550326\n",
      "The MSE for (1,1,1)x(0,0,2,0) is: 29778.421377712268\n",
      "The MSE for (1,1,1)x(0,0,2,1) is: 29778.421377712268\n",
      "The MSE for (1,1,1)x(0,0,2,7) is: 28771.28047861747\n",
      "The MSE for (1,1,1)x(0,1,2,7) is: 27329.98236707272\n",
      "The MSE for (1,1,1)x(1,0,0,0) is: 30203.177489053618\n",
      "The MSE for (1,1,1)x(1,0,0,1) is: 30203.177489053618\n",
      "The MSE for (1,1,1)x(1,0,0,7) is: 28718.76126624298\n",
      "The MSE for (1,1,1)x(1,1,0,1) is: 15462.489959439114\n",
      "The MSE for (1,1,1)x(1,1,0,7) is: 35836.41303233399\n",
      "The MSE for (1,1,1)x(1,2,0,7) is: 365073.30475217965\n",
      "The MSE for (1,1,1)x(1,0,1,0) is: 34637.34392645208\n",
      "The MSE for (1,1,1)x(1,0,1,1) is: 34637.34392645208\n",
      "The MSE for (1,1,1)x(1,0,1,7) is: 26838.871048372905\n",
      "The MSE for (1,1,1)x(1,1,1,1) is: 34287.67148232411\n",
      "The MSE for (1,1,1)x(1,1,1,7) is: 27331.602955468712\n",
      "The MSE for (1,1,1)x(1,2,1,7) is: 56274.28277418515\n",
      "The MSE for (1,1,1)x(1,0,2,0) is: 29776.04816705682\n",
      "The MSE for (1,1,1)x(1,0,2,1) is: 29776.04816705682\n",
      "The MSE for (1,1,1)x(1,0,2,7) is: 26751.107574807644\n",
      "The MSE for (1,1,1)x(1,1,2,7) is: 27859.302456563826\n",
      "The MSE for (1,1,1)x(2,0,0,0) is: 29899.646068212627\n",
      "The MSE for (1,1,1)x(2,0,0,1) is: 29899.646068212627\n",
      "The MSE for (1,1,1)x(2,0,0,7) is: 28277.13719893915\n",
      "The MSE for (1,1,1)x(2,1,0,1) is: 30918.649715320673\n",
      "The MSE for (1,1,1)x(2,1,0,7) is: 36698.3554571008\n",
      "The MSE for (1,1,1)x(2,2,0,7) is: 278478.0215950751\n",
      "The MSE for (1,1,1)x(2,0,1,0) is: 29627.533797701406\n",
      "The MSE for (1,1,1)x(2,0,1,1) is: 29627.533797701406\n",
      "The MSE for (1,1,1)x(2,0,1,7) is: 26796.782678427895\n",
      "The MSE for (1,1,1)x(2,1,1,1) is: 34446.69527666995\n",
      "The MSE for (1,1,1)x(2,1,1,7) is: 27474.08084557269\n",
      "The MSE for (1,1,1)x(2,2,1,7) is: 56083.19972613358\n",
      "The MSE for (1,1,1)x(2,0,2,7) is: 27517.872492875966\n",
      "The MSE for (1,1,1)x(2,1,2,7) is: 26841.2742427145\n",
      "The MSE for (1,1,1)x(2,2,2,7) is: 56029.10954710626\n",
      "The MSE for (1,1,3)x(0,1,0,7) is: 46058.52522807365\n",
      "The MSE for (1,1,3)x(0,2,0,7) is: 1142995.4439996835\n",
      "The MSE for (1,1,3)x(0,1,1,7) is: 27093.26540682307\n",
      "The MSE for (1,1,3)x(0,1,2,7) is: 27113.39632310588\n",
      "The MSE for (1,1,3)x(1,1,0,7) is: 35495.22989162846\n",
      "The MSE for (1,1,3)x(1,2,0,7) is: 356294.982909899\n",
      "The MSE for (1,1,3)x(1,1,1,7) is: 29636.221240378738\n",
      "The MSE for (1,1,3)x(1,2,1,7) is: 56067.129048215764\n",
      "The MSE for (1,1,3)x(1,1,2,7) is: 29083.94800271897\n",
      "The MSE for (1,1,3)x(2,2,0,7) is: 279080.1523984267\n",
      "The MSE for (1,1,3)x(2,1,1,7) is: 29269.143119944783\n",
      "The MSE for (1,1,3)x(2,2,1,7) is: 55921.39560346852\n",
      "The MSE for (1,1,3)x(2,1,2,7) is: 27860.31869620708\n",
      "The MSE for (1,1,3)x(2,2,2,7) is: 55569.47911722379\n",
      "The MSE for (5,0,0)x(0,0,0,0) is: 29099.583342807044\n",
      "The MSE for (5,0,0)x(0,0,0,1) is: 29099.583342807044\n",
      "The MSE for (5,0,0)x(0,0,0,7) is: 29099.583342807044\n",
      "The MSE for (5,0,0)x(0,1,0,1) is: 46579.46264466062\n",
      "The MSE for (5,0,0)x(0,1,0,7) is: 47238.2102026668\n",
      "The MSE for (5,0,0)x(0,2,0,1) is: 906674.4965401569\n",
      "The MSE for (5,0,0)x(0,2,0,7) is: 1089695.3170193585\n",
      "The MSE for (5,0,0)x(0,0,1,0) is: 36864.71215441168\n",
      "The MSE for (5,0,0)x(0,0,1,1) is: 36864.71215441168\n",
      "The MSE for (5,0,0)x(0,0,1,7) is: 30674.138006528636\n",
      "The MSE for (5,0,0)x(0,1,1,1) is: 29354.472803111265\n",
      "The MSE for (5,0,0)x(0,1,1,7) is: 26970.85596346228\n",
      "The MSE for (5,0,0)x(0,2,1,1) is: 39164.670123135314\n",
      "The MSE for (5,0,0)x(0,0,2,0) is: 30714.970720751913\n",
      "The MSE for (5,0,0)x(0,0,2,1) is: 30714.970720751913\n",
      "The MSE for (5,0,0)x(0,0,2,7) is: 37826.75208095011\n",
      "The MSE for (5,0,0)x(0,1,2,1) is: 29304.431347619462\n",
      "The MSE for (5,0,0)x(0,1,2,7) is: 26987.603587441587\n",
      "The MSE for (5,0,0)x(0,2,2,7) is: 27068.259212090896\n",
      "The MSE for (5,0,0)x(1,0,0,0) is: 35192.97857597719\n",
      "The MSE for (5,0,0)x(1,0,0,1) is: 35192.97857597719\n",
      "The MSE for (5,0,0)x(1,0,0,7) is: 64480.74656002924\n",
      "The MSE for (5,0,0)x(1,1,0,1) is: 39577.005753240555\n",
      "The MSE for (5,0,0)x(1,1,0,7) is: 35491.18954317436\n",
      "The MSE for (5,0,0)x(1,2,0,1) is: 29008.057733486316\n",
      "The MSE for (5,0,0)x(1,2,0,7) is: 369620.95822238637\n",
      "The MSE for (5,0,0)x(1,0,1,0) is: 30479.11770654877\n",
      "The MSE for (5,0,0)x(1,0,1,1) is: 30479.11770654877\n",
      "The MSE for (5,0,0)x(1,0,1,7) is: 63488.35387546236\n",
      "The MSE for (5,0,0)x(1,1,1,1) is: 29164.4864553015\n",
      "The MSE for (5,0,0)x(1,1,1,7) is: 26993.941160690276\n",
      "The MSE for (5,0,0)x(1,2,1,1) is: 35782.28602451496\n",
      "The MSE for (5,0,0)x(1,2,1,7) is: 36003.47186950045\n",
      "The MSE for (5,0,0)x(1,0,2,0) is: 42132.518552374175\n",
      "The MSE for (5,0,0)x(1,0,2,1) is: 42132.518552374175\n",
      "The MSE for (5,0,0)x(1,0,2,7) is: 61530.95500888274\n",
      "The MSE for (5,0,0)x(1,1,2,1) is: 29377.02215125312\n",
      "The MSE for (5,0,0)x(1,1,2,7) is: 27154.294874565392\n",
      "The MSE for (5,0,0)x(2,0,0,0) is: 36887.26777372662\n",
      "The MSE for (5,0,0)x(2,0,0,1) is: 36887.26777372662\n",
      "The MSE for (5,0,0)x(2,0,0,7) is: 28546.932455300448\n",
      "The MSE for (5,0,0)x(2,1,0,1) is: 37065.538890642645\n",
      "The MSE for (5,0,0)x(2,1,0,7) is: 36400.24820045551\n",
      "The MSE for (5,0,0)x(2,2,0,1) is: 387525.12692601443\n",
      "The MSE for (5,0,0)x(2,2,0,7) is: 267067.5786129808\n",
      "The MSE for (5,0,0)x(2,0,1,7) is: 51158.914773726494\n",
      "The MSE for (5,0,0)x(2,1,1,1) is: 28485.845321267137\n",
      "The MSE for (5,0,0)x(2,1,1,7) is: 26989.978693904617\n",
      "The MSE for (5,0,0)x(2,2,1,1) is: 33697.18689413485\n",
      "The MSE for (5,0,0)x(2,2,1,7) is: 35312.594129506164\n",
      "The MSE for (5,0,0)x(2,0,2,7) is: 23659.817121783777\n",
      "The MSE for (5,0,0)x(2,1,2,7) is: 26961.05345492699\n",
      "The MSE for (5,0,0)x(2,2,2,7) is: 35661.00164882245\n",
      "The MSE for (5,0,1)x(0,0,0,0) is: 30067.86406315021\n",
      "The MSE for (5,0,1)x(0,0,0,1) is: 30067.86406315021\n",
      "The MSE for (5,0,1)x(0,0,0,7) is: 30067.86406315021\n",
      "The MSE for (5,0,1)x(0,1,0,1) is: 29354.146398950303\n",
      "The MSE for (5,0,1)x(0,1,0,7) is: 40091.55309827536\n",
      "The MSE for (5,0,1)x(0,2,0,1) is: 39140.49211863277\n",
      "The MSE for (5,0,1)x(0,2,0,7) is: 1009874.8621165842\n",
      "The MSE for (5,0,1)x(0,0,1,0) is: 30028.268933555526\n",
      "The MSE for (5,0,1)x(0,0,1,1) is: 30028.268933555526\n",
      "The MSE for (5,0,1)x(0,0,1,7) is: 30687.947936557142\n",
      "The MSE for (5,0,1)x(0,1,1,1) is: 29305.953534411656\n",
      "The MSE for (5,0,1)x(0,1,1,7) is: 26435.32212864946\n",
      "The MSE for (5,0,1)x(0,2,1,1) is: 33020.06039556307\n",
      "The MSE for (5,0,1)x(0,0,2,0) is: 31048.34918929098\n",
      "The MSE for (5,0,1)x(0,0,2,1) is: 31048.34918929098\n",
      "The MSE for (5,0,1)x(0,0,2,7) is: 29794.865974557553\n",
      "The MSE for (5,0,1)x(0,1,2,1) is: 29304.47497974366\n",
      "The MSE for (5,0,1)x(0,1,2,7) is: 26598.757870793328\n",
      "The MSE for (5,0,1)x(0,2,2,7) is: 1089478.4684082947\n",
      "The MSE for (5,0,1)x(1,0,0,0) is: 28599.68475270559\n",
      "The MSE for (5,0,1)x(1,0,0,1) is: 28599.68475270559\n"
     ]
    },
    {
     "name": "stdout",
     "output_type": "stream",
     "text": [
      "The MSE for (5,0,1)x(1,0,0,7) is: 28545.479457737558\n",
      "The MSE for (5,0,1)x(1,1,0,1) is: 29170.758599726592\n",
      "The MSE for (5,0,1)x(1,1,0,7) is: 31357.573428628722\n",
      "The MSE for (5,0,1)x(1,2,0,1) is: 35782.11915685119\n",
      "The MSE for (5,0,1)x(1,2,0,7) is: 350298.2080535087\n",
      "The MSE for (5,0,1)x(1,0,1,0) is: 30674.571048691774\n",
      "The MSE for (5,0,1)x(1,0,1,1) is: 30674.571048691774\n",
      "The MSE for (5,0,1)x(1,0,1,7) is: 26887.643276083858\n",
      "The MSE for (5,0,1)x(1,1,1,1) is: 28749.767448380124\n",
      "The MSE for (5,0,1)x(1,1,1,7) is: 26845.4172995972\n",
      "The MSE for (5,0,1)x(1,2,1,1) is: 32399.452039013533\n",
      "The MSE for (5,0,1)x(1,2,1,7) is: 36717.87439823931\n",
      "The MSE for (5,0,1)x(1,0,2,0) is: 15362.78655116106\n",
      "The MSE for (5,0,1)x(1,0,2,1) is: 15362.78655116106\n",
      "The MSE for (5,0,1)x(1,0,2,7) is: 27182.257289396024\n",
      "The MSE for (5,0,1)x(1,1,2,1) is: 29171.08952591463\n",
      "The MSE for (5,0,1)x(1,1,2,7) is: 26885.07405876536\n",
      "The MSE for (5,0,1)x(2,0,0,0) is: 30647.88705149955\n",
      "The MSE for (5,0,1)x(2,0,0,1) is: 30647.88705149955\n",
      "The MSE for (5,0,1)x(2,0,0,7) is: 29287.559011673293\n",
      "The MSE for (5,0,1)x(2,1,0,1) is: 28502.6991378928\n",
      "The MSE for (5,0,1)x(2,1,0,7) is: 31005.62052864683\n",
      "The MSE for (5,0,1)x(2,2,0,1) is: 36636.44650583836\n",
      "The MSE for (5,0,1)x(2,2,0,7) is: 266857.7536114668\n",
      "The MSE for (5,0,1)x(2,0,1,7) is: 27380.415757783936\n",
      "The MSE for (5,0,1)x(2,1,1,1) is: 28376.417104221524\n",
      "The MSE for (5,0,1)x(2,1,1,7) is: 26658.599720330443\n",
      "The MSE for (5,0,1)x(2,2,1,1) is: 29886.77330520177\n",
      "The MSE for (5,0,1)x(2,2,1,7) is: 27558.190358191743\n",
      "The MSE for (5,0,1)x(2,0,2,7) is: 27496.942759827398\n",
      "The MSE for (5,0,1)x(2,1,2,7) is: 25853.005929133513\n",
      "The MSE for (5,0,1)x(2,2,2,7) is: 2379841.933752324\n",
      "The MSE for (5,0,3)x(0,1,0,1) is: 27842.753276589854\n",
      "The MSE for (5,0,3)x(0,1,1,1) is: 28460.593853000977\n",
      "The MSE for (5,0,3)x(0,1,2,1) is: 28825.291340976215\n",
      "The MSE for (5,0,3)x(1,1,0,1) is: 27662.544027488682\n",
      "The MSE for (5,0,3)x(1,1,1,1) is: 28779.225080016095\n",
      "The MSE for (5,0,3)x(1,1,2,1) is: 28689.7694220651\n",
      "The MSE for (5,0,3)x(2,1,0,1) is: 28213.03105654821\n",
      "The MSE for (5,0,3)x(2,1,1,1) is: 27972.919015229796\n",
      "The MSE for (5,1,0)x(0,0,0,0) is: 46579.46264466062\n",
      "The MSE for (5,1,0)x(0,0,0,1) is: 46579.46264466062\n",
      "The MSE for (5,1,0)x(0,0,0,7) is: 46579.46264466062\n",
      "The MSE for (5,1,0)x(0,1,0,1) is: 906674.4965401569\n",
      "The MSE for (5,1,0)x(0,1,0,7) is: 468150.8586393207\n",
      "The MSE for (5,1,0)x(0,2,0,1) is: 6047199827.87975\n",
      "The MSE for (5,1,0)x(0,2,0,7) is: 11230673.587247275\n",
      "The MSE for (5,1,0)x(0,0,1,0) is: 29354.472803111265\n",
      "The MSE for (5,1,0)x(0,0,1,1) is: 29354.472803111265\n",
      "The MSE for (5,1,0)x(0,0,1,7) is: 50452.96375306792\n",
      "The MSE for (5,1,0)x(0,1,1,1) is: 39164.670123135314\n",
      "The MSE for (5,1,0)x(0,1,1,7) is: 59282.78959134035\n",
      "The MSE for (5,1,0)x(0,0,2,0) is: 29304.431347619462\n",
      "The MSE for (5,1,0)x(0,0,2,1) is: 29304.431347619462\n",
      "The MSE for (5,1,0)x(0,0,2,7) is: 54704.28282923306\n",
      "The MSE for (5,1,0)x(0,1,2,7) is: 60060.916069853934\n",
      "The MSE for (5,1,0)x(0,2,2,1) is: 103862.37615467136\n",
      "The MSE for (5,1,0)x(1,0,0,0) is: 39577.005753240555\n",
      "The MSE for (5,1,0)x(1,0,0,1) is: 39577.005753240555\n",
      "The MSE for (5,1,0)x(1,0,0,7) is: 56951.10812717369\n",
      "The MSE for (5,1,0)x(1,1,0,1) is: 29008.057733486316\n",
      "The MSE for (5,1,0)x(1,1,0,7) is: 215118.47622309168\n",
      "The MSE for (5,1,0)x(1,2,0,1) is: 3028036917.365576\n",
      "The MSE for (5,1,0)x(1,2,0,7) is: 689462.5815255418\n",
      "The MSE for (5,1,0)x(1,0,1,0) is: 29164.4864553015\n",
      "The MSE for (5,1,0)x(1,0,1,1) is: 29164.4864553015\n",
      "The MSE for (5,1,0)x(1,0,1,7) is: 53330.60377543106\n",
      "The MSE for (5,1,0)x(1,1,1,1) is: 35782.28602451496\n",
      "The MSE for (5,1,0)x(1,1,1,7) is: 60322.82751933656\n",
      "The MSE for (5,1,0)x(1,2,1,7) is: 279183.57726072957\n",
      "The MSE for (5,1,0)x(1,0,2,0) is: 29377.02215125312\n",
      "The MSE for (5,1,0)x(1,0,2,1) is: 29377.02215125312\n",
      "The MSE for (5,1,0)x(1,0,2,7) is: 51986.462470504695\n",
      "The MSE for (5,1,0)x(1,1,2,7) is: 59005.570153860695\n",
      "The MSE for (5,1,0)x(2,0,0,0) is: 37065.538890642645\n",
      "The MSE for (5,1,0)x(2,0,0,1) is: 37065.538890642645\n",
      "The MSE for (5,1,0)x(2,0,0,7) is: 77125.08194270245\n",
      "The MSE for (5,1,0)x(2,1,0,1) is: 387525.12692601443\n",
      "The MSE for (5,1,0)x(2,1,0,7) is: 230571.1078158123\n",
      "The MSE for (5,1,0)x(2,2,0,1) is: 478273121.7777364\n",
      "The MSE for (5,1,0)x(2,2,0,7) is: 2675154.70874555\n",
      "The MSE for (5,1,0)x(2,0,1,0) is: 28485.845321267137\n",
      "The MSE for (5,1,0)x(2,0,1,1) is: 28485.845321267137\n",
      "The MSE for (5,1,0)x(2,0,1,7) is: 54183.25765265549\n",
      "The MSE for (5,1,0)x(2,1,1,1) is: 33697.18689413485\n",
      "The MSE for (5,1,0)x(2,1,1,7) is: 50851.42118082036\n",
      "The MSE for (5,1,0)x(2,2,1,7) is: 309633.4818496106\n",
      "The MSE for (5,1,0)x(2,0,2,7) is: 52833.25045051897\n",
      "The MSE for (5,1,0)x(2,1,2,7) is: 49295.918407624\n",
      "The MSE for (5,1,0)x(2,2,2,7) is: 267449.6286151469\n",
      "The MSE for (5,1,1)x(0,0,0,0) is: 29354.146398950303\n",
      "The MSE for (5,1,1)x(0,0,0,1) is: 29354.146398950303\n",
      "The MSE for (5,1,1)x(0,0,0,7) is: 29354.146398950303\n",
      "The MSE for (5,1,1)x(0,1,0,1) is: 39140.49211863277\n",
      "The MSE for (5,1,1)x(0,1,0,7) is: 510255.9116187814\n",
      "The MSE for (5,1,1)x(0,2,0,7) is: 11249394.975775102\n",
      "The MSE for (5,1,1)x(0,0,1,0) is: 29305.953534411656\n",
      "The MSE for (5,1,1)x(0,0,1,1) is: 29305.953534411656\n",
      "The MSE for (5,1,1)x(0,0,1,7) is: 29118.541196247523\n",
      "The MSE for (5,1,1)x(0,1,1,1) is: 33020.06039556307\n",
      "The MSE for (5,1,1)x(0,1,1,7) is: 28411.284224747316\n",
      "The MSE for (5,1,1)x(0,0,2,0) is: 29304.47497974366\n",
      "The MSE for (5,1,1)x(0,0,2,1) is: 29304.47497974366\n",
      "The MSE for (5,1,1)x(0,0,2,7) is: 28445.922656299877\n",
      "The MSE for (5,1,1)x(0,1,2,7) is: 28470.2353753228\n",
      "The MSE for (5,1,1)x(1,0,0,0) is: 29170.758599726592\n",
      "The MSE for (5,1,1)x(1,0,0,1) is: 29170.758599726592\n",
      "The MSE for (5,1,1)x(1,0,0,7) is: 28778.344736442734\n",
      "The MSE for (5,1,1)x(1,1,0,1) is: 35782.11915685119\n",
      "The MSE for (5,1,1)x(1,1,0,7) is: 35508.059824835975\n",
      "The MSE for (5,1,1)x(1,2,0,7) is: 371688.5236791082\n",
      "The MSE for (5,1,1)x(1,0,1,0) is: 28749.767448380124\n",
      "The MSE for (5,1,1)x(1,0,1,1) is: 28749.767448380124\n",
      "The MSE for (5,1,1)x(1,0,1,7) is: 26953.570370465724\n",
      "The MSE for (5,1,1)x(1,1,1,1) is: 32399.452039013533\n",
      "The MSE for (5,1,1)x(1,1,1,7) is: 28493.9814775076\n",
      "The MSE for (5,1,1)x(1,2,1,7) is: 55679.98221565245\n",
      "The MSE for (5,1,1)x(1,0,2,0) is: 29171.08952591463\n",
      "The MSE for (5,1,1)x(1,0,2,1) is: 29171.08952591463\n",
      "The MSE for (5,1,1)x(1,0,2,7) is: 27096.16475686466\n",
      "The MSE for (5,1,1)x(1,1,2,7) is: 28355.50777983381\n",
      "The MSE for (5,1,1)x(2,0,0,0) is: 28502.6991378928\n",
      "The MSE for (5,1,1)x(2,0,0,1) is: 28502.6991378928\n",
      "The MSE for (5,1,1)x(2,0,0,7) is: 27983.14894792661\n",
      "The MSE for (5,1,1)x(2,1,0,1) is: 36636.44650583836\n",
      "The MSE for (5,1,1)x(2,1,0,7) is: 36641.18715930012\n",
      "The MSE for (5,1,1)x(2,2,0,7) is: 287585.6177571415\n",
      "The MSE for (5,1,1)x(2,0,1,0) is: 28376.417104221524\n",
      "The MSE for (5,1,1)x(2,0,1,1) is: 28376.417104221524\n",
      "The MSE for (5,1,1)x(2,0,1,7) is: 26901.93430909861\n",
      "The MSE for (5,1,1)x(2,1,1,1) is: 29886.77330520177\n",
      "The MSE for (5,1,1)x(2,1,1,7) is: 28169.715374544816\n",
      "The MSE for (5,1,1)x(2,2,1,7) is: 54955.15998709121\n",
      "The MSE for (5,1,1)x(2,1,2,7) is: 26831.996307261343\n",
      "The MSE for (5,1,1)x(2,2,2,7) is: 55726.03974674529\n",
      "The MSE for (5,1,3)x(0,0,0,0) is: 27842.753276589854\n",
      "The MSE for (5,1,3)x(0,0,0,1) is: 27842.753276589854\n",
      "The MSE for (5,1,3)x(0,0,0,7) is: 27842.753276589854\n",
      "The MSE for (5,1,3)x(0,0,1,0) is: 28460.593853000977\n",
      "The MSE for (5,1,3)x(0,0,1,1) is: 28460.593853000977\n",
      "The MSE for (5,1,3)x(0,0,1,7) is: 27621.299844031768\n",
      "The MSE for (5,1,3)x(0,0,2,0) is: 28825.291340976215\n",
      "The MSE for (5,1,3)x(0,0,2,1) is: 28825.291340976215\n",
      "The MSE for (5,1,3)x(0,0,2,7) is: 27089.34237970149\n",
      "The MSE for (5,1,3)x(1,0,0,0) is: 27662.544027488682\n",
      "The MSE for (5,1,3)x(1,0,0,1) is: 27662.544027488682\n",
      "The MSE for (5,1,3)x(1,0,0,7) is: 32072.34979542493\n",
      "The MSE for (5,1,3)x(1,0,1,0) is: 28779.225080016095\n",
      "The MSE for (5,1,3)x(1,0,1,1) is: 28779.225080016095\n",
      "The MSE for (5,1,3)x(1,0,1,7) is: 28928.74203423187\n",
      "The MSE for (5,1,3)x(1,0,2,0) is: 28689.7694220651\n",
      "The MSE for (5,1,3)x(1,0,2,1) is: 28689.7694220651\n",
      "The MSE for (5,1,3)x(1,0,2,7) is: 29023.840185888643\n",
      "The MSE for (5,1,3)x(2,0,0,0) is: 28213.03105654821\n",
      "The MSE for (5,1,3)x(2,0,0,1) is: 28213.03105654821\n",
      "The MSE for (5,1,3)x(2,0,0,7) is: 27976.58902925487\n",
      "The MSE for (5,1,3)x(2,0,1,0) is: 27972.919015229796\n"
     ]
    },
    {
     "name": "stdout",
     "output_type": "stream",
     "text": [
      "The MSE for (5,1,3)x(2,0,1,1) is: 27972.919015229796\n",
      "The MSE for (5,1,3)x(2,0,1,7) is: 27637.27043389766\n",
      "The MSE for (5,1,3)x(2,0,2,7) is: 27325.280888019846\n",
      "Our model that minimizes MSE on the training data is the SARIMA(0, 0, 0)x(1,0,2,0).\n",
      "This model has an MSE of 15362.78655116106.\n"
     ]
    },
    {
     "data": {
      "image/png": "[encoded data removed]",
      "text/plain": [
       "<Figure size 720x432 with 1 Axes>"
      ]
     },
     "metadata": {
      "needs_background": "light"
     },
     "output_type": "display_data"
    }
   ],
   "source": [
    "# Starting MSE and (P, D, Q).\n",
    "mse = 99 * (10 ** 50)\n",
    "final_p = 0\n",
    "final_d = 0\n",
    "final_q = 0\n",
    "final_P = 0\n",
    "final_D = 0\n",
    "final_Q = 0\n",
    "final_S = 0\n",
    "\n",
    "\n",
    "for p in [1,5]:\n",
    "    for d in range(2):\n",
    "        for q in [0,1,3]:\n",
    "            for P in range(3):\n",
    "                for Q in range(3):\n",
    "                    for D in range(3):\n",
    "                        for S in [0,1, 7]:\n",
    "                            try:\n",
    "                                # Instantiate SARIMA model.\n",
    "                                sarima = SARIMAX(endog = train.CMPLNT_NUM,\n",
    "                                                 order = (p, d, q),              # (p, d, q)\n",
    "                                                 seasonal_order = (P, D, Q, S), # (P, D, Q, S)\n",
    "                                                 exog = train['max_temp'],\n",
    "                                                 random_state=42)\n",
    "\n",
    "                                # Fit SARIMA model.\n",
    "                                model = sarima.fit()\n",
    "\n",
    "                                # Generate predictions based on training set.\n",
    "                                # Start at time period  and end at .\n",
    "                                preds = model.predict(start=292, end=364, exog = test[['max_temp']])\n",
    "\n",
    "                                # Evaluate predictions.\n",
    "                                print(f'The MSE for ({p},{d},{q})x({P},{D},{Q},{S}) is: {mean_squared_error(test.CMPLNT_NUM, preds)}')\n",
    "\n",
    "                                # Save for final report.\n",
    "                                if mse > mean_squared_error(test.CMPLNT_NUM, preds):\n",
    "                                    mse = mean_squared_error(test.CMPLNT_NUM, preds)\n",
    "                                    final_p = p\n",
    "                                    final_d = d\n",
    "                                    final_q = q\n",
    "                                    final_P = P\n",
    "                                    final_D = D\n",
    "                                    final_Q = Q\n",
    "                                    final_S = S\n",
    "\n",
    "                            except:\n",
    "                                pass\n",
    "\n",
    "print(f'Our model that minimizes MSE on the training data is the SARIMA({final_p}, {final_d}, {final_q})x({final_P},{final_D},{final_Q},{final_S}).')\n",
    "print(f'This model has an MSE of {mse}.')\n",
    "\n",
    "# Plot data.\n",
    "plt.figure(figsize=(10,6))\n",
    "plt.plot(train.CMPLNT_NUM, color = 'blue', label='Train')\n",
    "plt.plot(test.CMPLNT_NUM, color = 'orange', label='Test')\n",
    "plt.plot(preds, color = 'green', label='Predictions')\n",
    "plt.title(label = f'Daily Crime Volume with SARIMA({final_p}, {final_d}, {final_q})x({final_P},{final_D},{final_Q},{final_S}) Predictions', fontsize=16)\n",
    "plt.legend()\n",
    "plt.show();"
   ]
  },
  {
   "cell_type": "code",
   "execution_count": 580,
   "metadata": {},
   "outputs": [
    {
     "name": "stdout",
     "output_type": "stream",
     "text": [
      "RMSE: 123.94670851281634\n"
     ]
    },
    {
     "data": {
      "image/png": "[encoded data removed]",
      "text/plain": [
       "<Figure size 720x432 with 1 Axes>"
      ]
     },
     "metadata": {
      "needs_background": "light"
     },
     "output_type": "display_data"
    }
   ],
   "source": [
    "# Instantiate SARIMA model.\n",
    "sarima = SARIMAX(endog = train.CMPLNT_NUM,\n",
    "                 order = (5, 0, 1),              # (p, d, q)\n",
    "                 seasonal_order = (1, 0, 2, 0), # (P, D, Q, S)\n",
    "                 exog = train['max_temp'],\n",
    "                 random_state=2)\n",
    "\n",
    "# Fit SARIMA model.\n",
    "model = sarima.fit()\n",
    "\n",
    "# Generate predictions based on training set.\n",
    "# Start at time period  and end at .\n",
    "preds = model.predict(start=292, end=364, exog = test[['max_temp']])\n",
    "\n",
    "# Evaluate predictions.\n",
    "print(f'RMSE: {np.sqrt(mean_squared_error(test.CMPLNT_NUM, preds))}')\n",
    "\n",
    "# Plot data.\n",
    "plt.figure(figsize=(10,6))\n",
    "plt.plot(train.CMPLNT_NUM, color = 'blue', label='Train')\n",
    "plt.plot(test.CMPLNT_NUM, color = 'orange', label='Test')\n",
    "plt.plot(preds, color = 'green', label='Predictions')\n",
    "plt.title(label = f'Daily Crime Volume with SARIMA({final_p}, {final_d}, {final_q})x({final_P},{final_D},{final_Q},{final_S}) Predictions', fontsize=16)\n",
    "plt.legend()\n",
    "plt.show();"
   ]
  },
  {
   "cell_type": "code",
   "execution_count": null,
   "metadata": {},
   "outputs": [],
   "source": []
  },
  {
   "cell_type": "code",
   "execution_count": null,
   "metadata": {},
   "outputs": [],
   "source": []
  },
  {
   "cell_type": "code",
   "execution_count": 38,
   "metadata": {},
   "outputs": [
    {
     "data": {
      "text/plain": [
       "[<matplotlib.lines.Line2D at 0x11cd06f28>]"
      ]
     },
     "execution_count": 38,
     "metadata": {},
     "output_type": "execute_result"
    },
    {
     "data": {
      "image/png": "[encoded data removed]",
      "text/plain": [
       "<Figure size 432x288 with 1 Axes>"
      ]
     },
     "metadata": {
      "needs_background": "light"
     },
     "output_type": "display_data"
    }
   ],
   "source": [
    "\n",
    "plt.plot(date_crime_weather[['CMPLNT_NUM']])"
   ]
  },
  {
   "cell_type": "code",
   "execution_count": 39,
   "metadata": {},
   "outputs": [
    {
     "data": {
      "text/plain": [
       "[<matplotlib.lines.Line2D at 0x11e128400>]"
      ]
     },
     "execution_count": 39,
     "metadata": {},
     "output_type": "execute_result"
    },
    {
     "data": {
      "image/png": "[encoded data removed]",
      "text/plain": [
       "<Figure size 432x288 with 1 Axes>"
      ]
     },
     "metadata": {
      "needs_background": "light"
     },
     "output_type": "display_data"
    }
   ],
   "source": [
    "plt.plot(date_crime_weather.max_temp)"
   ]
  },
  {
   "cell_type": "code",
   "execution_count": 366,
   "metadata": {},
   "outputs": [],
   "source": [
    "import pandas as pd\n",
    "\n",
    "from sklearn.preprocessing import StandardScaler\n",
    "from sklearn.model_selection import train_test_split\n",
    "from sklearn.metrics import accuracy_score, r2_score\n",
    "\n",
    "from keras.models import Sequential\n",
    "from keras.layers import Dense, Dropout, GRU, SimpleRNN, Flatten\n",
    "from keras.optimizers import Adam\n",
    "from keras.preprocessing.sequence import TimeseriesGenerator\n",
    "\n",
    "import matplotlib.pyplot as plt\n",
    "%matplotlib inline\n"
   ]
  },
  {
   "cell_type": "code",
   "execution_count": 508,
   "metadata": {},
   "outputs": [
    {
     "data": {
      "text/html": [
       "<div>\n",
       "<style scoped>\n",
       "    .dataframe tbody tr th:only-of-type {\n",
       "        vertical-align: middle;\n",
       "    }\n",
       "\n",
       "    .dataframe tbody tr th {\n",
       "        vertical-align: top;\n",
       "    }\n",
       "\n",
       "    .dataframe thead th {\n",
       "        text-align: right;\n",
       "    }\n",
       "</style>\n",
       "<table border=\"1\" class=\"dataframe\">\n",
       "  <thead>\n",
       "    <tr style=\"text-align: right;\">\n",
       "      <th></th>\n",
       "      <th>CMPLNT_NUM</th>\n",
       "      <th>max_temp</th>\n",
       "    </tr>\n",
       "    <tr>\n",
       "      <th>date</th>\n",
       "      <th></th>\n",
       "      <th></th>\n",
       "    </tr>\n",
       "  </thead>\n",
       "  <tbody>\n",
       "    <tr>\n",
       "      <th>2014-01-02</th>\n",
       "      <td>1102</td>\n",
       "      <td>33</td>\n",
       "    </tr>\n",
       "    <tr>\n",
       "      <th>2014-01-03</th>\n",
       "      <td>975</td>\n",
       "      <td>18</td>\n",
       "    </tr>\n",
       "    <tr>\n",
       "      <th>2014-01-04</th>\n",
       "      <td>1051</td>\n",
       "      <td>29</td>\n",
       "    </tr>\n",
       "    <tr>\n",
       "      <th>2014-01-05</th>\n",
       "      <td>1018</td>\n",
       "      <td>40</td>\n",
       "    </tr>\n",
       "    <tr>\n",
       "      <th>2014-01-06</th>\n",
       "      <td>1151</td>\n",
       "      <td>55</td>\n",
       "    </tr>\n",
       "  </tbody>\n",
       "</table>\n",
       "</div>"
      ],
      "text/plain": [
       "            CMPLNT_NUM  max_temp\n",
       "date                            \n",
       "2014-01-02        1102        33\n",
       "2014-01-03         975        18\n",
       "2014-01-04        1051        29\n",
       "2014-01-05        1018        40\n",
       "2014-01-06        1151        55"
      ]
     },
     "execution_count": 508,
     "metadata": {},
     "output_type": "execute_result"
    }
   ],
   "source": [
    "df = date_crime_temp[['CMPLNT_NUM', 'max_temp']][1:]\n",
    "df.head()"
   ]
  },
  {
   "cell_type": "code",
   "execution_count": 509,
   "metadata": {},
   "outputs": [
    {
     "data": {
      "text/plain": [
       "CMPLNT_NUM    0\n",
       "max_temp      0\n",
       "dtype: int64"
      ]
     },
     "execution_count": 509,
     "metadata": {},
     "output_type": "execute_result"
    }
   ],
   "source": [
    "df.isnull().sum()"
   ]
  },
  {
   "cell_type": "code",
   "execution_count": 510,
   "metadata": {},
   "outputs": [],
   "source": [
    "#df = df.pct_change()"
   ]
  },
  {
   "cell_type": "code",
   "execution_count": 511,
   "metadata": {},
   "outputs": [],
   "source": [
    "df.dropna(inplace=True)"
   ]
  },
  {
   "cell_type": "code",
   "execution_count": 512,
   "metadata": {},
   "outputs": [
    {
     "data": {
      "text/plain": [
       "<matplotlib.axes._subplots.AxesSubplot at 0x18f375390>"
      ]
     },
     "execution_count": 512,
     "metadata": {},
     "output_type": "execute_result"
    },
    {
     "data": {
      "image/png": "[encoded data removed]",
      "text/plain": [
       "<Figure size 432x288 with 1 Axes>"
      ]
     },
     "metadata": {
      "needs_background": "light"
     },
     "output_type": "display_data"
    }
   ],
   "source": [
    "df.CMPLNT_NUM.plot()"
   ]
  },
  {
   "cell_type": "code",
   "execution_count": 513,
   "metadata": {},
   "outputs": [],
   "source": [
    "df['target'] = df.CMPLNT_NUM"
   ]
  },
  {
   "cell_type": "code",
   "execution_count": 514,
   "metadata": {},
   "outputs": [
    {
     "data": {
      "text/html": [
       "<div>\n",
       "<style scoped>\n",
       "    .dataframe tbody tr th:only-of-type {\n",
       "        vertical-align: middle;\n",
       "    }\n",
       "\n",
       "    .dataframe tbody tr th {\n",
       "        vertical-align: top;\n",
       "    }\n",
       "\n",
       "    .dataframe thead th {\n",
       "        text-align: right;\n",
       "    }\n",
       "</style>\n",
       "<table border=\"1\" class=\"dataframe\">\n",
       "  <thead>\n",
       "    <tr style=\"text-align: right;\">\n",
       "      <th></th>\n",
       "      <th>CMPLNT_NUM</th>\n",
       "      <th>max_temp</th>\n",
       "      <th>target</th>\n",
       "    </tr>\n",
       "    <tr>\n",
       "      <th>date</th>\n",
       "      <th></th>\n",
       "      <th></th>\n",
       "      <th></th>\n",
       "    </tr>\n",
       "  </thead>\n",
       "  <tbody>\n",
       "    <tr>\n",
       "      <th>2014-01-02</th>\n",
       "      <td>1102</td>\n",
       "      <td>33</td>\n",
       "      <td>1102</td>\n",
       "    </tr>\n",
       "    <tr>\n",
       "      <th>2014-01-03</th>\n",
       "      <td>975</td>\n",
       "      <td>18</td>\n",
       "      <td>975</td>\n",
       "    </tr>\n",
       "    <tr>\n",
       "      <th>2014-01-04</th>\n",
       "      <td>1051</td>\n",
       "      <td>29</td>\n",
       "      <td>1051</td>\n",
       "    </tr>\n",
       "    <tr>\n",
       "      <th>2014-01-05</th>\n",
       "      <td>1018</td>\n",
       "      <td>40</td>\n",
       "      <td>1018</td>\n",
       "    </tr>\n",
       "    <tr>\n",
       "      <th>2014-01-06</th>\n",
       "      <td>1151</td>\n",
       "      <td>55</td>\n",
       "      <td>1151</td>\n",
       "    </tr>\n",
       "  </tbody>\n",
       "</table>\n",
       "</div>"
      ],
      "text/plain": [
       "            CMPLNT_NUM  max_temp  target\n",
       "date                                    \n",
       "2014-01-02        1102        33    1102\n",
       "2014-01-03         975        18     975\n",
       "2014-01-04        1051        29    1051\n",
       "2014-01-05        1018        40    1018\n",
       "2014-01-06        1151        55    1151"
      ]
     },
     "execution_count": 514,
     "metadata": {},
     "output_type": "execute_result"
    }
   ],
   "source": [
    "df.head()"
   ]
  },
  {
   "cell_type": "code",
   "execution_count": 515,
   "metadata": {},
   "outputs": [],
   "source": [
    "X = df.drop(columns='target')\n",
    "y = df['target']"
   ]
  },
  {
   "cell_type": "code",
   "execution_count": 516,
   "metadata": {},
   "outputs": [
    {
     "data": {
      "text/plain": [
       "1344.3186813186812"
      ]
     },
     "execution_count": 516,
     "metadata": {},
     "output_type": "execute_result"
    }
   ],
   "source": [
    "np.mean(y)"
   ]
  },
  {
   "cell_type": "code",
   "execution_count": 517,
   "metadata": {},
   "outputs": [
    {
     "data": {
      "text/html": [
       "<div>\n",
       "<style scoped>\n",
       "    .dataframe tbody tr th:only-of-type {\n",
       "        vertical-align: middle;\n",
       "    }\n",
       "\n",
       "    .dataframe tbody tr th {\n",
       "        vertical-align: top;\n",
       "    }\n",
       "\n",
       "    .dataframe thead th {\n",
       "        text-align: right;\n",
       "    }\n",
       "</style>\n",
       "<table border=\"1\" class=\"dataframe\">\n",
       "  <thead>\n",
       "    <tr style=\"text-align: right;\">\n",
       "      <th></th>\n",
       "      <th>CMPLNT_NUM</th>\n",
       "      <th>max_temp</th>\n",
       "    </tr>\n",
       "    <tr>\n",
       "      <th>date</th>\n",
       "      <th></th>\n",
       "      <th></th>\n",
       "    </tr>\n",
       "  </thead>\n",
       "  <tbody>\n",
       "    <tr>\n",
       "      <th>2014-10-02</th>\n",
       "      <td>1430</td>\n",
       "      <td>70</td>\n",
       "    </tr>\n",
       "    <tr>\n",
       "      <th>2014-10-03</th>\n",
       "      <td>1472</td>\n",
       "      <td>71</td>\n",
       "    </tr>\n",
       "    <tr>\n",
       "      <th>2014-10-04</th>\n",
       "      <td>1424</td>\n",
       "      <td>69</td>\n",
       "    </tr>\n",
       "    <tr>\n",
       "      <th>2014-10-05</th>\n",
       "      <td>1308</td>\n",
       "      <td>61</td>\n",
       "    </tr>\n",
       "    <tr>\n",
       "      <th>2014-10-06</th>\n",
       "      <td>1327</td>\n",
       "      <td>69</td>\n",
       "    </tr>\n",
       "  </tbody>\n",
       "</table>\n",
       "</div>"
      ],
      "text/plain": [
       "            CMPLNT_NUM  max_temp\n",
       "date                            \n",
       "2014-10-02        1430        70\n",
       "2014-10-03        1472        71\n",
       "2014-10-04        1424        69\n",
       "2014-10-05        1308        61\n",
       "2014-10-06        1327        69"
      ]
     },
     "execution_count": 517,
     "metadata": {},
     "output_type": "execute_result"
    }
   ],
   "source": [
    "X_train, X_test, y_train, y_test = train_test_split(X, y, shuffle=False)\n",
    "X_test.head()"
   ]
  },
  {
   "cell_type": "code",
   "execution_count": 518,
   "metadata": {},
   "outputs": [],
   "source": [
    "ss = StandardScaler()\n",
    "X_train_sc = ss.fit_transform(X_train)\n",
    "X_test_sc = ss.transform(X_test)"
   ]
  },
  {
   "cell_type": "code",
   "execution_count": 527,
   "metadata": {},
   "outputs": [],
   "source": [
    "length = 7\n",
    "train_sequences = TimeseriesGenerator(X_train_sc, y_train, length=length, batch_size=64)\n",
    "test_sequences = TimeseriesGenerator(X_test_sc, y_test, length=length, batch_size=64)"
   ]
  },
  {
   "cell_type": "code",
   "execution_count": 528,
   "metadata": {},
   "outputs": [],
   "source": [
    "model = Sequential()\n",
    "model.add(GRU(32, input_shape=(train_sequences.length, 2), return_sequences=True))\n",
    "model.add(GRU(64))\n",
    "\n",
    "model.add(Dense(4, activation='relu'))\n",
    "\n",
    "model.add(Dense(1, activation='linear'))"
   ]
  },
  {
   "cell_type": "code",
   "execution_count": 529,
   "metadata": {},
   "outputs": [
    {
     "name": "stdout",
     "output_type": "stream",
     "text": [
      "Epoch 1/30\n",
      "5/5 [==============================] - 9s 2s/step - loss: 1928335.6866 - mean_squared_error: 1928335.6866 - val_loss: 1610449.4881 - val_mean_squared_error: 1610449.4881\n",
      "Epoch 2/30\n",
      "5/5 [==============================] - 0s 19ms/step - loss: 1928168.3604 - mean_squared_error: 1928168.3604 - val_loss: 1610416.7024 - val_mean_squared_error: 1610416.7024\n",
      "Epoch 3/30\n",
      "5/5 [==============================] - 0s 37ms/step - loss: 1928099.7570 - mean_squared_error: 1928099.7570 - val_loss: 1610405.7202 - val_mean_squared_error: 1610405.7202\n",
      "Epoch 4/30\n",
      "5/5 [==============================] - 0s 42ms/step - loss: 1928082.1823 - mean_squared_error: 1928082.1823 - val_loss: 1610400.0119 - val_mean_squared_error: 1610400.0119\n",
      "Epoch 5/30\n",
      "5/5 [==============================] - 0s 26ms/step - loss: 1928062.1100 - mean_squared_error: 1928062.1100 - val_loss: 1610383.2024 - val_mean_squared_error: 1610383.2024\n",
      "Epoch 6/30\n",
      "5/5 [==============================] - 0s 37ms/step - loss: 1928040.8327 - mean_squared_error: 1928040.8327 - val_loss: 1610375.8988 - val_mean_squared_error: 1610375.8988\n",
      "Epoch 7/30\n",
      "5/5 [==============================] - 0s 39ms/step - loss: 1928020.8134 - mean_squared_error: 1928020.8134 - val_loss: 1610366.0119 - val_mean_squared_error: 1610366.0119\n",
      "Epoch 8/30\n",
      "5/5 [==============================] - 0s 25ms/step - loss: 1928003.8393 - mean_squared_error: 1928003.8393 - val_loss: 1610356.1190 - val_mean_squared_error: 1610356.1190\n",
      "Epoch 9/30\n",
      "5/5 [==============================] - 0s 33ms/step - loss: 1927980.6100 - mean_squared_error: 1927980.6100 - val_loss: 1610346.1131 - val_mean_squared_error: 1610346.1131\n",
      "Epoch 10/30\n",
      "5/5 [==============================] - 0s 24ms/step - loss: 1927955.8835 - mean_squared_error: 1927955.8835 - val_loss: 1610335.6310 - val_mean_squared_error: 1610335.6310\n",
      "Epoch 11/30\n",
      "5/5 [==============================] - 0s 43ms/step - loss: 1927928.5611 - mean_squared_error: 1927928.5611 - val_loss: 1610324.4167 - val_mean_squared_error: 1610324.4167\n",
      "Epoch 12/30\n",
      "5/5 [==============================] - 0s 38ms/step - loss: 1927897.3524 - mean_squared_error: 1927897.3524 - val_loss: 1610312.3452 - val_mean_squared_error: 1610312.3452\n",
      "Epoch 13/30\n",
      "5/5 [==============================] - 0s 25ms/step - loss: 1927870.0822 - mean_squared_error: 1927870.0822 - val_loss: 1610298.3393 - val_mean_squared_error: 1610298.3393\n",
      "Epoch 14/30\n",
      "5/5 [==============================] - 0s 37ms/step - loss: 1927826.6165 - mean_squared_error: 1927826.6165 - val_loss: 1610283.3452 - val_mean_squared_error: 1610283.3452\n",
      "Epoch 15/30\n",
      "5/5 [==============================] - 0s 23ms/step - loss: 1927773.7603 - mean_squared_error: 1927773.7603 - val_loss: 1610266.7381 - val_mean_squared_error: 1610266.7381\n",
      "Epoch 16/30\n",
      "5/5 [==============================] - 0s 38ms/step - loss: 1927724.3463 - mean_squared_error: 1927724.3463 - val_loss: 1610245.4583 - val_mean_squared_error: 1610245.4583\n",
      "Epoch 17/30\n",
      "5/5 [==============================] - 0s 30ms/step - loss: 1927635.5926 - mean_squared_error: 1927635.5926 - val_loss: 1610221.0714 - val_mean_squared_error: 1610221.0714\n",
      "Epoch 18/30\n",
      "5/5 [==============================] - 0s 40ms/step - loss: 1927541.9798 - mean_squared_error: 1927541.9798 - val_loss: 1610188.9048 - val_mean_squared_error: 1610188.9048\n",
      "Epoch 19/30\n",
      "5/5 [==============================] - 0s 23ms/step - loss: 1927429.7904 - mean_squared_error: 1927429.7904 - val_loss: 1610142.2917 - val_mean_squared_error: 1610142.2917\n",
      "Epoch 20/30\n",
      "5/5 [==============================] - 0s 34ms/step - loss: 1927205.8393 - mean_squared_error: 1927205.8393 - val_loss: 1610077.6845 - val_mean_squared_error: 1610077.6845\n",
      "Epoch 21/30\n",
      "5/5 [==============================] - 0s 40ms/step - loss: 1926921.5526 - mean_squared_error: 1926921.5526 - val_loss: 1609978.5298 - val_mean_squared_error: 1609978.5298\n",
      "Epoch 22/30\n",
      "5/5 [==============================] - 0s 26ms/step - loss: 1926543.7805 - mean_squared_error: 1926543.7805 - val_loss: 1609796.1131 - val_mean_squared_error: 1609796.1131\n",
      "Epoch 23/30\n",
      "5/5 [==============================] - 0s 38ms/step - loss: 1925750.9182 - mean_squared_error: 1925750.9182 - val_loss: 1609523.0595 - val_mean_squared_error: 1609523.0595\n",
      "Epoch 24/30\n",
      "5/5 [==============================] - 0s 22ms/step - loss: 1925090.2096 - mean_squared_error: 1925090.2096 - val_loss: 1609101.8214 - val_mean_squared_error: 1609101.8214\n",
      "Epoch 25/30\n",
      "5/5 [==============================] - 0s 24ms/step - loss: 1924180.3289 - mean_squared_error: 1924180.3289 - val_loss: 1608654.9643 - val_mean_squared_error: 1608654.9643\n",
      "Epoch 26/30\n",
      "5/5 [==============================] - 0s 39ms/step - loss: 1923728.9901 - mean_squared_error: 1923728.9901 - val_loss: 1608243.0357 - val_mean_squared_error: 1608243.0357\n",
      "Epoch 27/30\n",
      "5/5 [==============================] - 0s 24ms/step - loss: 1923302.0611 - mean_squared_error: 1923302.0611 - val_loss: 1607890.5833 - val_mean_squared_error: 1607890.5833\n",
      "Epoch 28/30\n",
      "5/5 [==============================] - 0s 38ms/step - loss: 1922911.2082 - mean_squared_error: 1922911.2082 - val_loss: 1607563.8452 - val_mean_squared_error: 1607563.8452\n",
      "Epoch 29/30\n",
      "5/5 [==============================] - 0s 22ms/step - loss: 1922546.9225 - mean_squared_error: 1922546.9225 - val_loss: 1607249.9345 - val_mean_squared_error: 1607249.9345\n",
      "Epoch 30/30\n",
      "5/5 [==============================] - 0s 39ms/step - loss: 1922185.0808 - mean_squared_error: 1922185.0808 - val_loss: 1606918.0833 - val_mean_squared_error: 1606918.0833\n"
     ]
    }
   ],
   "source": [
    "model.compile(optimizer=Adam(lr=.0005), \n",
    "              loss='mse', \n",
    "              metrics=['mse'])\n",
    "\n",
    "history = model.fit_generator(train_sequences, \n",
    "                              validation_data=test_sequences, \n",
    "                              epochs=30, \n",
    "                              verbose=1)"
   ]
  },
  {
   "cell_type": "code",
   "execution_count": 530,
   "metadata": {},
   "outputs": [
    {
     "data": {
      "image/png": "[encoded data removed]",
      "text/plain": [
       "<Figure size 864x648 with 1 Axes>"
      ]
     },
     "metadata": {
      "needs_background": "light"
     },
     "output_type": "display_data"
    }
   ],
   "source": [
    "plt.figure(figsize=(12,9))\n",
    "plt.plot(history.history['loss'], label='Train loss (MSE)')\n",
    "plt.plot(history.history['val_loss'], label='Test loss')\n",
    "plt.legend();"
   ]
  },
  {
   "cell_type": "code",
   "execution_count": null,
   "metadata": {},
   "outputs": [],
   "source": []
  },
  {
   "cell_type": "code",
   "execution_count": 531,
   "metadata": {},
   "outputs": [],
   "source": [
    "def generator(data, lookback, delay, min_index, max_index, shuffle = False, batch_size = 128,step = 6):\n",
    "    if max_index is None:\n",
    "        max_index = len(data) - delay - 1\n",
    "    i = min_index + lookback\n",
    "    while 1:\n",
    "        if shuffle:\n",
    "            rows = np.random.randint(min_index + lookback, max_index, size = batch_size)\n",
    "        else:\n",
    "            if i + batch_size >= max_index:\n",
    "                i = min_index + lookback\n",
    "            rows = np.arange(i, min(i + batch_size, max_index))\n",
    "            i += len(rows)\n",
    "            \n",
    "        samples = np.zeros((len(rows), lookback // step, data.shape[-1]))\n",
    "        targets = np.zeros((len(rows),))\n",
    "        for j, row in enumerate(rows):\n",
    "            indices = range(rows[j] - lookback, rows[j], step)\n",
    "            samples[j] = data[indices]\n",
    "            targets[j] = data[rows[j] + delay][1]\n",
    "        yield samples, targets"
   ]
  },
  {
   "cell_type": "code",
   "execution_count": 562,
   "metadata": {},
   "outputs": [],
   "source": [
    "lookback = 10\n",
    "step = 5\n",
    "delay = 5\n",
    "batch_size = 10"
   ]
  },
  {
   "cell_type": "code",
   "execution_count": 563,
   "metadata": {},
   "outputs": [],
   "source": [
    "train_gen = generator(X_train_sc,\n",
    "                     lookback = lookback,\n",
    "                     delay = delay, \n",
    "                     min_index = 0,\n",
    "                     max_index = 300,\n",
    "                     shuffle = True,\n",
    "                     step = step,\n",
    "                     batch_size = batch_size)"
   ]
  },
  {
   "cell_type": "code",
   "execution_count": 564,
   "metadata": {},
   "outputs": [],
   "source": [
    "val_gen = generator(X_train_sc,\n",
    "                   lookback = lookback,\n",
    "                     delay = delay, \n",
    "                     min_index = 301,\n",
    "                     max_index = 330,\n",
    "                     step = step,\n",
    "                     batch_size = batch_size)"
   ]
  },
  {
   "cell_type": "code",
   "execution_count": 565,
   "metadata": {},
   "outputs": [],
   "source": [
    "test_gen = generator(X_train_sc,\n",
    "                     lookback = lookback,\n",
    "                     delay = delay, \n",
    "                     min_index = 331,\n",
    "                     max_index = None,\n",
    "                     step = step,\n",
    "                     batch_size = batch_size)"
   ]
  },
  {
   "cell_type": "code",
   "execution_count": 571,
   "metadata": {},
   "outputs": [],
   "source": [
    "val_steps = (330 - 301 - lookback) // batch_size\n",
    "test_steps = (len(X_train_sc) - 331 - lookback) // batch_size"
   ]
  },
  {
   "cell_type": "code",
   "execution_count": 572,
   "metadata": {},
   "outputs": [],
   "source": [
    "from keras.models import Sequential\n",
    "from keras import layers\n",
    "from keras.optimizers import RMSprop"
   ]
  },
  {
   "cell_type": "code",
   "execution_count": 573,
   "metadata": {},
   "outputs": [],
   "source": [
    "model = Sequential()\n",
    "model.add(layers.GRU(32, input_shape = (None, X_train_sc.shape[-1])))\n",
    "model.add(layers.Dense(1))"
   ]
  },
  {
   "cell_type": "code",
   "execution_count": 574,
   "metadata": {},
   "outputs": [
    {
     "data": {
      "text/plain": [
       "1"
      ]
     },
     "execution_count": 574,
     "metadata": {},
     "output_type": "execute_result"
    }
   ],
   "source": [
    "val_steps"
   ]
  },
  {
   "cell_type": "code",
   "execution_count": 575,
   "metadata": {},
   "outputs": [
    {
     "name": "stdout",
     "output_type": "stream",
     "text": [
      "Epoch 1/20\n"
     ]
    },
    {
     "ename": "StopIteration",
     "evalue": "",
     "output_type": "error",
     "traceback": [
      "\u001b[0;31m---------------------------------------------------------------------------\u001b[0m",
      "\u001b[0;31mStopIteration\u001b[0m                             Traceback (most recent call last)",
      "\u001b[0;32m<ipython-input-575-7b2f785d96ac>\u001b[0m in \u001b[0;36m<module>\u001b[0;34m\u001b[0m\n\u001b[1;32m      4\u001b[0m                              \u001b[0mepochs\u001b[0m \u001b[0;34m=\u001b[0m \u001b[0;36m20\u001b[0m\u001b[0;34m,\u001b[0m\u001b[0;34m\u001b[0m\u001b[0;34m\u001b[0m\u001b[0m\n\u001b[1;32m      5\u001b[0m                              \u001b[0mvalidation_data\u001b[0m \u001b[0;34m=\u001b[0m \u001b[0mval_gen\u001b[0m\u001b[0;34m,\u001b[0m\u001b[0;34m\u001b[0m\u001b[0;34m\u001b[0m\u001b[0m\n\u001b[0;32m----> 6\u001b[0;31m                              validation_steps = val_steps)\n\u001b[0m",
      "\u001b[0;32m~/anaconda3/lib/python3.6/site-packages/keras/legacy/interfaces.py\u001b[0m in \u001b[0;36mwrapper\u001b[0;34m(*args, **kwargs)\u001b[0m\n\u001b[1;32m     89\u001b[0m                 warnings.warn('Update your `' + object_name + '` call to the ' +\n\u001b[1;32m     90\u001b[0m                               'Keras 2 API: ' + signature, stacklevel=2)\n\u001b[0;32m---> 91\u001b[0;31m             \u001b[0;32mreturn\u001b[0m \u001b[0mfunc\u001b[0m\u001b[0;34m(\u001b[0m\u001b[0;34m*\u001b[0m\u001b[0margs\u001b[0m\u001b[0;34m,\u001b[0m \u001b[0;34m**\u001b[0m\u001b[0mkwargs\u001b[0m\u001b[0;34m)\u001b[0m\u001b[0;34m\u001b[0m\u001b[0;34m\u001b[0m\u001b[0m\n\u001b[0m\u001b[1;32m     92\u001b[0m         \u001b[0mwrapper\u001b[0m\u001b[0;34m.\u001b[0m\u001b[0m_original_function\u001b[0m \u001b[0;34m=\u001b[0m \u001b[0mfunc\u001b[0m\u001b[0;34m\u001b[0m\u001b[0;34m\u001b[0m\u001b[0m\n\u001b[1;32m     93\u001b[0m         \u001b[0;32mreturn\u001b[0m \u001b[0mwrapper\u001b[0m\u001b[0;34m\u001b[0m\u001b[0;34m\u001b[0m\u001b[0m\n",
      "\u001b[0;32m~/anaconda3/lib/python3.6/site-packages/keras/engine/training.py\u001b[0m in \u001b[0;36mfit_generator\u001b[0;34m(self, generator, steps_per_epoch, epochs, verbose, callbacks, validation_data, validation_steps, class_weight, max_queue_size, workers, use_multiprocessing, shuffle, initial_epoch)\u001b[0m\n\u001b[1;32m   1416\u001b[0m             \u001b[0muse_multiprocessing\u001b[0m\u001b[0;34m=\u001b[0m\u001b[0muse_multiprocessing\u001b[0m\u001b[0;34m,\u001b[0m\u001b[0;34m\u001b[0m\u001b[0;34m\u001b[0m\u001b[0m\n\u001b[1;32m   1417\u001b[0m             \u001b[0mshuffle\u001b[0m\u001b[0;34m=\u001b[0m\u001b[0mshuffle\u001b[0m\u001b[0;34m,\u001b[0m\u001b[0;34m\u001b[0m\u001b[0;34m\u001b[0m\u001b[0m\n\u001b[0;32m-> 1418\u001b[0;31m             initial_epoch=initial_epoch)\n\u001b[0m\u001b[1;32m   1419\u001b[0m \u001b[0;34m\u001b[0m\u001b[0m\n\u001b[1;32m   1420\u001b[0m     \u001b[0;34m@\u001b[0m\u001b[0minterfaces\u001b[0m\u001b[0;34m.\u001b[0m\u001b[0mlegacy_generator_methods_support\u001b[0m\u001b[0;34m\u001b[0m\u001b[0;34m\u001b[0m\u001b[0m\n",
      "\u001b[0;32m~/anaconda3/lib/python3.6/site-packages/keras/engine/training_generator.py\u001b[0m in \u001b[0;36mfit_generator\u001b[0;34m(model, generator, steps_per_epoch, epochs, verbose, callbacks, validation_data, validation_steps, class_weight, max_queue_size, workers, use_multiprocessing, shuffle, initial_epoch)\u001b[0m\n\u001b[1;32m    179\u001b[0m             \u001b[0mbatch_index\u001b[0m \u001b[0;34m=\u001b[0m \u001b[0;36m0\u001b[0m\u001b[0;34m\u001b[0m\u001b[0;34m\u001b[0m\u001b[0m\n\u001b[1;32m    180\u001b[0m             \u001b[0;32mwhile\u001b[0m \u001b[0msteps_done\u001b[0m \u001b[0;34m<\u001b[0m \u001b[0msteps_per_epoch\u001b[0m\u001b[0;34m:\u001b[0m\u001b[0;34m\u001b[0m\u001b[0;34m\u001b[0m\u001b[0m\n\u001b[0;32m--> 181\u001b[0;31m                 \u001b[0mgenerator_output\u001b[0m \u001b[0;34m=\u001b[0m \u001b[0mnext\u001b[0m\u001b[0;34m(\u001b[0m\u001b[0moutput_generator\u001b[0m\u001b[0;34m)\u001b[0m\u001b[0;34m\u001b[0m\u001b[0;34m\u001b[0m\u001b[0m\n\u001b[0m\u001b[1;32m    182\u001b[0m \u001b[0;34m\u001b[0m\u001b[0m\n\u001b[1;32m    183\u001b[0m                 \u001b[0;32mif\u001b[0m \u001b[0;32mnot\u001b[0m \u001b[0mhasattr\u001b[0m\u001b[0;34m(\u001b[0m\u001b[0mgenerator_output\u001b[0m\u001b[0;34m,\u001b[0m \u001b[0;34m'__len__'\u001b[0m\u001b[0;34m)\u001b[0m\u001b[0;34m:\u001b[0m\u001b[0;34m\u001b[0m\u001b[0;34m\u001b[0m\u001b[0m\n",
      "\u001b[0;31mStopIteration\u001b[0m: "
     ]
    }
   ],
   "source": [
    "model.compile(optimizer = RMSprop(), loss = 'mae')\n",
    "history = model.fit_generator(train_gen,\n",
    "                             steps_per_epoch = 500,\n",
    "                             epochs = 20,\n",
    "                             validation_data = val_gen,\n",
    "                             validation_steps = val_steps)"
   ]
  },
  {
   "cell_type": "code",
   "execution_count": 496,
   "metadata": {},
   "outputs": [],
   "source": [
    "preds =  model.predict_generator(test_sequences)"
   ]
  },
  {
   "cell_type": "code",
   "execution_count": 497,
   "metadata": {},
   "outputs": [
    {
     "data": {
      "text/plain": [
       "array([[-3.13515961e-02],\n",
       "       [-1.39902979e-02],\n",
       "       [ 1.22180298e-01],\n",
       "       [ 9.37809497e-02],\n",
       "       [ 1.87473893e-02],\n",
       "       [-3.61652598e-02],\n",
       "       [ 4.48403470e-02],\n",
       "       [-2.56226100e-02],\n",
       "       [-5.85987419e-03],\n",
       "       [ 6.62664920e-02],\n",
       "       [ 1.74952634e-02],\n",
       "       [ 1.08728185e-03],\n",
       "       [-3.88380736e-02],\n",
       "       [ 4.77586500e-02],\n",
       "       [ 3.85840349e-02],\n",
       "       [ 5.52236624e-02],\n",
       "       [ 1.00428075e-01],\n",
       "       [ 1.31464362e-01],\n",
       "       [ 3.00063677e-02],\n",
       "       [ 2.64297985e-02],\n",
       "       [-3.62638272e-02],\n",
       "       [-3.62638272e-02],\n",
       "       [-2.18324102e-02],\n",
       "       [ 2.73457281e-02],\n",
       "       [-4.02543545e-02],\n",
       "       [-2.59383414e-02],\n",
       "       [ 5.98030649e-02],\n",
       "       [ 2.26216823e-01],\n",
       "       [-6.77457266e-03],\n",
       "       [ 8.92151520e-03],\n",
       "       [ 2.93207541e-03],\n",
       "       [ 5.56140952e-02],\n",
       "       [-3.35623138e-02],\n",
       "       [ 3.59127633e-02],\n",
       "       [ 7.57148266e-02],\n",
       "       [ 2.25760639e-02],\n",
       "       [ 3.02657001e-02],\n",
       "       [ 9.91766751e-02],\n",
       "       [ 1.07302696e-01],\n",
       "       [ 9.32915956e-02],\n",
       "       [-1.04722455e-02],\n",
       "       [-3.62638272e-02],\n",
       "       [-3.62638272e-02],\n",
       "       [-3.21898982e-02],\n",
       "       [-7.87675381e-05],\n",
       "       [ 2.91971490e-03],\n",
       "       [ 1.00819208e-02],\n",
       "       [-4.79108319e-02],\n",
       "       [-6.05015643e-03],\n",
       "       [ 5.77085838e-03],\n",
       "       [ 5.64155839e-02],\n",
       "       [ 1.60925508e-01],\n",
       "       [ 1.34645373e-01],\n",
       "       [ 4.50324379e-02],\n",
       "       [ 6.13459088e-02],\n",
       "       [ 9.41441208e-02],\n",
       "       [-1.18600018e-02],\n",
       "       [-4.01069149e-02],\n",
       "       [-2.05516443e-03],\n",
       "       [-5.27239032e-03],\n",
       "       [-1.60673261e-03]], dtype=float32)"
      ]
     },
     "execution_count": 497,
     "metadata": {},
     "output_type": "execute_result"
    }
   ],
   "source": [
    "#preds"
   ]
  },
  {
   "cell_type": "code",
   "execution_count": 472,
   "metadata": {},
   "outputs": [
    {
     "data": {
      "text/plain": [
       "(61, 1)"
      ]
     },
     "execution_count": 472,
     "metadata": {},
     "output_type": "execute_result"
    }
   ],
   "source": [
    "preds.shape"
   ]
  },
  {
   "cell_type": "code",
   "execution_count": 505,
   "metadata": {},
   "outputs": [
    {
     "data": {
      "text/plain": [
       "[(array([[[-1.56287704,  0.35718781],\n",
       "          [ 0.18966291, -0.01625158],\n",
       "          [-0.35633464, -0.26936357],\n",
       "          ...,\n",
       "          [-0.48886005, -0.10142196],\n",
       "          [-0.21168228, -1.177881  ],\n",
       "          [ 1.14987195, -0.5056204 ]],\n",
       "  \n",
       "         [[ 0.18966291, -0.01625158],\n",
       "          [-0.35633464, -0.26936357],\n",
       "          [-0.78668881, -0.79265987],\n",
       "          ...,\n",
       "          [-0.21168228, -1.177881  ],\n",
       "          [ 1.14987195, -0.5056204 ],\n",
       "          [-0.2369255 , -0.96861134]],\n",
       "  \n",
       "         [[-0.35633464, -0.26936357],\n",
       "          [-0.78668881, -0.79265987],\n",
       "          [ 0.05889133,  0.6804701 ],\n",
       "          ...,\n",
       "          [ 1.14987195, -0.5056204 ],\n",
       "          [-0.2369255 , -0.96861134],\n",
       "          [-2.03981861,  0.02542755]],\n",
       "  \n",
       "         ...,\n",
       "  \n",
       "         [[-1.01000998,  1.18764333],\n",
       "          [ 0.38895189,  1.2234507 ],\n",
       "          [ 1.5055799 ,  0.98256476],\n",
       "          ...,\n",
       "          [ 1.36088047, -1.25534332],\n",
       "          [ 0.155426  ,  0.49477074],\n",
       "          [-0.72583391, -0.20982063]],\n",
       "  \n",
       "         [[ 0.38895189,  1.2234507 ],\n",
       "          [ 1.5055799 ,  0.98256476],\n",
       "          [-1.45419113, -2.11930494],\n",
       "          ...,\n",
       "          [ 0.155426  ,  0.49477074],\n",
       "          [-0.72583391, -0.20982063],\n",
       "          [ 0.26210533, -1.20548252]],\n",
       "  \n",
       "         [[ 1.5055799 ,  0.98256476],\n",
       "          [-1.45419113, -2.11930494],\n",
       "          [-0.22977448,  0.31452643],\n",
       "          ...,\n",
       "          [-0.72583391, -0.20982063],\n",
       "          [ 0.26210533, -1.20548252],\n",
       "          [ 0.13155378, -1.45640537]]]),\n",
       "  array([-0.01905388, -0.22371065,  0.09059534,  0.0585443 ,  0.04185351,\n",
       "         -0.10401722,  0.1561249 , -0.02908587, -0.12054208,  0.09245742,\n",
       "         -0.02301411,  0.05015198, -0.10419682,  0.06462036, -0.02124431,\n",
       "         -0.08992248, -0.07666099,  0.11162362, -0.02323651,  0.13169074,\n",
       "          0.03453453, -0.02830189, -0.10455564,  0.08590492, -0.04454685,\n",
       "         -0.08360129, -0.2754386 ,  0.56416465, -0.10681115,  0.05199307,\n",
       "          0.17874794, -0.1572327 , -0.01824212, -0.03462838,  0.08573928,\n",
       "         -0.05398872, -0.09965928,  0.00094607, -0.00567108,  0.12927757,\n",
       "          0.06313131,  0.0783848 , -0.03597651, -0.09139375,  0.02263202,\n",
       "         -0.01557377,  0.09658618, -0.04935459,  0.02795527, -0.04895105,\n",
       "         -0.18872549,  0.04431017,  0.06075217, -0.13454545, -0.11344538,\n",
       "          0.16232227,  0.0254842 , -0.07455268,  0.03759398,  0.02277433,\n",
       "         -0.05870445]))]"
      ]
     },
     "execution_count": 505,
     "metadata": {},
     "output_type": "execute_result"
    }
   ],
   "source": [
    "list(test_sequences)"
   ]
  },
  {
   "cell_type": "code",
   "execution_count": 475,
   "metadata": {},
   "outputs": [
    {
     "data": {
      "text/html": [
       "<div>\n",
       "<style scoped>\n",
       "    .dataframe tbody tr th:only-of-type {\n",
       "        vertical-align: middle;\n",
       "    }\n",
       "\n",
       "    .dataframe tbody tr th {\n",
       "        vertical-align: top;\n",
       "    }\n",
       "\n",
       "    .dataframe thead th {\n",
       "        text-align: right;\n",
       "    }\n",
       "</style>\n",
       "<table border=\"1\" class=\"dataframe\">\n",
       "  <thead>\n",
       "    <tr style=\"text-align: right;\">\n",
       "      <th></th>\n",
       "      <th>CMPLNT_NUM</th>\n",
       "      <th>max_temp</th>\n",
       "    </tr>\n",
       "    <tr>\n",
       "      <th>date</th>\n",
       "      <th></th>\n",
       "      <th></th>\n",
       "    </tr>\n",
       "  </thead>\n",
       "  <tbody>\n",
       "    <tr>\n",
       "      <th>2014-01-03</th>\n",
       "      <td>-0.115245</td>\n",
       "      <td>-0.454545</td>\n",
       "    </tr>\n",
       "    <tr>\n",
       "      <th>2014-01-04</th>\n",
       "      <td>0.077949</td>\n",
       "      <td>0.611111</td>\n",
       "    </tr>\n",
       "    <tr>\n",
       "      <th>2014-01-05</th>\n",
       "      <td>-0.031399</td>\n",
       "      <td>0.379310</td>\n",
       "    </tr>\n",
       "    <tr>\n",
       "      <th>2014-01-06</th>\n",
       "      <td>0.130648</td>\n",
       "      <td>0.375000</td>\n",
       "    </tr>\n",
       "    <tr>\n",
       "      <th>2014-01-07</th>\n",
       "      <td>-0.079062</td>\n",
       "      <td>-0.654545</td>\n",
       "    </tr>\n",
       "  </tbody>\n",
       "</table>\n",
       "</div>"
      ],
      "text/plain": [
       "            CMPLNT_NUM  max_temp\n",
       "date                            \n",
       "2014-01-03   -0.115245 -0.454545\n",
       "2014-01-04    0.077949  0.611111\n",
       "2014-01-05   -0.031399  0.379310\n",
       "2014-01-06    0.130648  0.375000\n",
       "2014-01-07   -0.079062 -0.654545"
      ]
     },
     "execution_count": 475,
     "metadata": {},
     "output_type": "execute_result"
    }
   ],
   "source": [
    "X_train.head()"
   ]
  },
  {
   "cell_type": "code",
   "execution_count": 477,
   "metadata": {},
   "outputs": [
    {
     "data": {
      "text/plain": [
       "date\n",
       "2014-01-03   -0.115245\n",
       "2014-01-04    0.077949\n",
       "2014-01-05   -0.031399\n",
       "2014-01-06    0.130648\n",
       "2014-01-07   -0.079062\n",
       "Name: target, dtype: float64"
      ]
     },
     "execution_count": 477,
     "metadata": {},
     "output_type": "execute_result"
    }
   ],
   "source": [
    "y.head()"
   ]
  },
  {
   "cell_type": "code",
   "execution_count": 448,
   "metadata": {},
   "outputs": [
    {
     "data": {
      "text/plain": [
       "((272, 2), (272,))"
      ]
     },
     "execution_count": 448,
     "metadata": {},
     "output_type": "execute_result"
    }
   ],
   "source": [
    "X_train.shape, y_train.shape"
   ]
  },
  {
   "cell_type": "code",
   "execution_count": null,
   "metadata": {},
   "outputs": [],
   "source": []
  }
 ],
 "metadata": {
  "kernelspec": {
   "display_name": "Python 3",
   "language": "python",
   "name": "python3"
  },
  "language_info": {
   "codemirror_mode": {
    "name": "ipython",
    "version": 3
   },
   "file_extension": ".py",
   "mimetype": "text/x-python",
   "name": "python",
   "nbconvert_exporter": "python",
   "pygments_lexer": "ipython3",
   "version": "3.6.8"
  }
 },
 "nbformat": 4,
 "nbformat_minor": 2
}
